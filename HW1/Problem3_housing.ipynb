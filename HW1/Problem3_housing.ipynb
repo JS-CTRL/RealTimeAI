{
 "cells": [
  {
   "cell_type": "code",
   "execution_count": 30,
   "metadata": {},
   "outputs": [],
   "source": [
    "#importing libraries\n",
    "import numpy as np\n",
    "import pandas as pd\n",
    "import matplotlib.pyplot as plt\n",
    "%matplotlib inline\n",
    "import torch\n",
    "torch.set_printoptions(edgeitems=2)"
   ]
  },
  {
   "cell_type": "code",
   "execution_count": 31,
   "metadata": {},
   "outputs": [
    {
     "data": {
      "text/html": [
       "<div>\n",
       "<style scoped>\n",
       "    .dataframe tbody tr th:only-of-type {\n",
       "        vertical-align: middle;\n",
       "    }\n",
       "\n",
       "    .dataframe tbody tr th {\n",
       "        vertical-align: top;\n",
       "    }\n",
       "\n",
       "    .dataframe thead th {\n",
       "        text-align: right;\n",
       "    }\n",
       "</style>\n",
       "<table border=\"1\" class=\"dataframe\">\n",
       "  <thead>\n",
       "    <tr style=\"text-align: right;\">\n",
       "      <th></th>\n",
       "      <th>price</th>\n",
       "      <th>area</th>\n",
       "      <th>bedrooms</th>\n",
       "      <th>bathrooms</th>\n",
       "      <th>stories</th>\n",
       "      <th>mainroad</th>\n",
       "      <th>guestroom</th>\n",
       "      <th>basement</th>\n",
       "      <th>hotwaterheating</th>\n",
       "      <th>airconditioning</th>\n",
       "      <th>parking</th>\n",
       "      <th>prefarea</th>\n",
       "      <th>furnishingstatus</th>\n",
       "    </tr>\n",
       "  </thead>\n",
       "  <tbody>\n",
       "    <tr>\n",
       "      <th>0</th>\n",
       "      <td>13300000</td>\n",
       "      <td>7420</td>\n",
       "      <td>4</td>\n",
       "      <td>2</td>\n",
       "      <td>3</td>\n",
       "      <td>yes</td>\n",
       "      <td>no</td>\n",
       "      <td>no</td>\n",
       "      <td>no</td>\n",
       "      <td>yes</td>\n",
       "      <td>2</td>\n",
       "      <td>yes</td>\n",
       "      <td>furnished</td>\n",
       "    </tr>\n",
       "    <tr>\n",
       "      <th>1</th>\n",
       "      <td>12250000</td>\n",
       "      <td>8960</td>\n",
       "      <td>4</td>\n",
       "      <td>4</td>\n",
       "      <td>4</td>\n",
       "      <td>yes</td>\n",
       "      <td>no</td>\n",
       "      <td>no</td>\n",
       "      <td>no</td>\n",
       "      <td>yes</td>\n",
       "      <td>3</td>\n",
       "      <td>no</td>\n",
       "      <td>furnished</td>\n",
       "    </tr>\n",
       "    <tr>\n",
       "      <th>2</th>\n",
       "      <td>12250000</td>\n",
       "      <td>9960</td>\n",
       "      <td>3</td>\n",
       "      <td>2</td>\n",
       "      <td>2</td>\n",
       "      <td>yes</td>\n",
       "      <td>no</td>\n",
       "      <td>yes</td>\n",
       "      <td>no</td>\n",
       "      <td>no</td>\n",
       "      <td>2</td>\n",
       "      <td>yes</td>\n",
       "      <td>semi-furnished</td>\n",
       "    </tr>\n",
       "    <tr>\n",
       "      <th>3</th>\n",
       "      <td>12215000</td>\n",
       "      <td>7500</td>\n",
       "      <td>4</td>\n",
       "      <td>2</td>\n",
       "      <td>2</td>\n",
       "      <td>yes</td>\n",
       "      <td>no</td>\n",
       "      <td>yes</td>\n",
       "      <td>no</td>\n",
       "      <td>yes</td>\n",
       "      <td>3</td>\n",
       "      <td>yes</td>\n",
       "      <td>furnished</td>\n",
       "    </tr>\n",
       "    <tr>\n",
       "      <th>4</th>\n",
       "      <td>11410000</td>\n",
       "      <td>7420</td>\n",
       "      <td>4</td>\n",
       "      <td>1</td>\n",
       "      <td>2</td>\n",
       "      <td>yes</td>\n",
       "      <td>yes</td>\n",
       "      <td>yes</td>\n",
       "      <td>no</td>\n",
       "      <td>yes</td>\n",
       "      <td>2</td>\n",
       "      <td>no</td>\n",
       "      <td>furnished</td>\n",
       "    </tr>\n",
       "  </tbody>\n",
       "</table>\n",
       "</div>"
      ],
      "text/plain": [
       "      price  area  bedrooms  bathrooms  stories mainroad guestroom basement  \\\n",
       "0  13300000  7420         4          2        3      yes        no       no   \n",
       "1  12250000  8960         4          4        4      yes        no       no   \n",
       "2  12250000  9960         3          2        2      yes        no      yes   \n",
       "3  12215000  7500         4          2        2      yes        no      yes   \n",
       "4  11410000  7420         4          1        2      yes       yes      yes   \n",
       "\n",
       "  hotwaterheating airconditioning  parking prefarea furnishingstatus  \n",
       "0              no             yes        2      yes        furnished  \n",
       "1              no             yes        3       no        furnished  \n",
       "2              no              no        2      yes   semi-furnished  \n",
       "3              no             yes        3      yes        furnished  \n",
       "4              no             yes        2       no        furnished  "
      ]
     },
     "execution_count": 31,
     "metadata": {},
     "output_type": "execute_result"
    }
   ],
   "source": [
    "#importing dataset\n",
    "housing = pd.DataFrame(pd.read_csv(\"Housing.csv\")) \n",
    "housing.head() "
   ]
  },
  {
   "cell_type": "code",
   "execution_count": 32,
   "metadata": {},
   "outputs": [
    {
     "data": {
      "text/plain": [
       "545"
      ]
     },
     "execution_count": 32,
     "metadata": {},
     "output_type": "execute_result"
    }
   ],
   "source": [
    "#dataset length\n",
    "m = len(housing) \n",
    "m "
   ]
  },
  {
   "cell_type": "code",
   "execution_count": 33,
   "metadata": {},
   "outputs": [
    {
     "data": {
      "text/plain": [
       "(545, 6)"
      ]
     },
     "execution_count": 33,
     "metadata": {},
     "output_type": "execute_result"
    }
   ],
   "source": [
    "#slicing out desired features from dataset\n",
    "num_vars = ['area', 'bedrooms', 'bathrooms', 'stories', 'parking','price'] \n",
    "Newtrain = housing[num_vars] \n",
    "Newtrain.head() \n",
    "Newtrain.shape"
   ]
  },
  {
   "cell_type": "code",
   "execution_count": 34,
   "metadata": {},
   "outputs": [],
   "source": [
    "#setting values of x1-5 = price influences/features\n",
    "x5=torch.tensor(Newtrain['area'], dtype=torch.float)\n",
    "x4=torch.tensor(Newtrain['bedrooms'], dtype=torch.float)\n",
    "x3=torch.tensor(Newtrain['bathrooms'], dtype=torch.float)\n",
    "x2=torch.tensor(Newtrain['stories'], dtype=torch.float)\n",
    "x1=torch.tensor(Newtrain['parking'], dtype=torch.float)\n",
    "\n",
    "#normalizing x1-x5\n",
    "x1_mean=torch.mean(x1,dim=0)\n",
    "x1_var=torch.var(x1,dim=0)\n",
    "x1=(x1-x1_mean)/torch.sqrt(x1_var)\n",
    "\n",
    "x2_mean=torch.mean(x2,dim=0)\n",
    "x2_var=torch.var(x2,dim=0)\n",
    "x2=(x2-x2_mean)/torch.sqrt(x2_var)\n",
    "\n",
    "x3_mean=torch.mean(x3,dim=0)\n",
    "x3_var=torch.var(x3,dim=0)\n",
    "x3=(x3-x3_mean)/torch.sqrt(x3_var)\n",
    "\n",
    "x4_mean=torch.mean(x4,dim=0)\n",
    "x4_var=torch.var(x4,dim=0)\n",
    "x4=(x4-x4_mean)/torch.sqrt(x4_var)\n",
    "\n",
    "x5_mean=torch.mean(x5,dim=0)\n",
    "x5_var=torch.var(x5,dim=0)\n",
    "x5=(x5-x5_mean)/torch.sqrt(x5_var)"
   ]
  },
  {
   "cell_type": "code",
   "execution_count": 35,
   "metadata": {},
   "outputs": [],
   "source": [
    "#setting price as the validation output u\n",
    "#normalizing u\n",
    "u=torch.tensor(Newtrain['price'], dtype=torch.float)\n",
    "u_mean=torch.mean(u,dim=0)\n",
    "u_var=torch.var(u,dim=0)\n",
    "u=(u-u_mean)/torch.sqrt(u_var)"
   ]
  },
  {
   "cell_type": "code",
   "execution_count": 36,
   "metadata": {},
   "outputs": [],
   "source": [
    "#defining linear model, note that w1-5 and b are the parameters \n",
    "def model(w5,w4,w3,w2,w1,b,x5,x4,x3,x2,x1):\n",
    "    return w5*x5*5+w4*x4*4+w3*x3*3+w2*x2*2+w1*x1+b"
   ]
  },
  {
   "cell_type": "code",
   "execution_count": 37,
   "metadata": {},
   "outputs": [],
   "source": [
    "#loss function, difference between predicted value and true validation value u\n",
    "def loss_fn(wx, u):\n",
    "    squared_diffs = (wx - u)**2\n",
    "    return squared_diffs.mean()"
   ]
  },
  {
   "cell_type": "code",
   "execution_count": 38,
   "metadata": {},
   "outputs": [],
   "source": [
    "#initializing params(w5-w1 and b)\n",
    "params = torch.tensor([1.0,1,1,1,1,1], requires_grad=True)"
   ]
  },
  {
   "cell_type": "code",
   "execution_count": 39,
   "metadata": {},
   "outputs": [
    {
     "data": {
      "text/plain": [
       "True"
      ]
     },
     "execution_count": 39,
     "metadata": {},
     "output_type": "execute_result"
    }
   ],
   "source": [
    "params.grad is None"
   ]
  },
  {
   "cell_type": "code",
   "execution_count": 40,
   "metadata": {},
   "outputs": [
    {
     "data": {
      "text/plain": [
       "torch.float32"
      ]
     },
     "execution_count": 40,
     "metadata": {},
     "output_type": "execute_result"
    }
   ],
   "source": [
    "params.dtype"
   ]
  },
  {
   "cell_type": "code",
   "execution_count": 41,
   "metadata": {},
   "outputs": [],
   "source": [
    "#defining loss\n",
    "loss = loss_fn(model(*params,x5,x4,x3,x2,x1), u)\n",
    "loss.backward()"
   ]
  },
  {
   "cell_type": "code",
   "execution_count": 42,
   "metadata": {},
   "outputs": [
    {
     "data": {
      "text/plain": [
       "tensor([61.6254, 51.6729, 34.5990, 18.5961,  7.1093,  2.0000])"
      ]
     },
     "execution_count": 42,
     "metadata": {},
     "output_type": "execute_result"
    }
   ],
   "source": [
    "#new params\n",
    "params.grad"
   ]
  },
  {
   "cell_type": "code",
   "execution_count": 47,
   "metadata": {},
   "outputs": [],
   "source": [
    "if params.grad is not None:\n",
    "    params.grad.zero_()"
   ]
  },
  {
   "cell_type": "code",
   "execution_count": 44,
   "metadata": {},
   "outputs": [],
   "source": [
    "#defining the training loop\n",
    "def training_loop(n_epochs, learning_rate, params, wx, u):\n",
    "    for epoch in range(1, n_epochs + 1):\n",
    "        if params.grad is not None:  \n",
    "            params.grad.zero_()\n",
    "        \n",
    "        wx = model(*params,x5,x4,x3,x2,x1) \n",
    "        loss = loss_fn(wx, u)\n",
    "        loss.backward()\n",
    "        \n",
    "        with torch.no_grad(): \n",
    "            params -= learning_rate * params.grad\n",
    "\n",
    "        if epoch % 500 == 0:\n",
    "            print('Epoch %d, Loss %f' % (epoch, float(loss)))\n",
    "            \n",
    "    return params"
   ]
  },
  {
   "cell_type": "code",
   "execution_count": 54,
   "metadata": {},
   "outputs": [
    {
     "name": "stdout",
     "output_type": "stream",
     "text": [
      "Epoch 500, Loss 0.446237\n",
      "Epoch 1000, Loss 0.439173\n",
      "Epoch 1500, Loss 0.437897\n",
      "Epoch 2000, Loss 0.437665\n",
      "Epoch 2500, Loss 0.437622\n",
      "Epoch 3000, Loss 0.437615\n",
      "Epoch 3500, Loss 0.437613\n",
      "Epoch 4000, Loss 0.437613\n",
      "Epoch 4500, Loss 0.437613\n",
      "Epoch 5000, Loss 0.437613\n"
     ]
    }
   ],
   "source": [
    "#running the training to determine best params for linear model \n",
    "params=training_loop(\n",
    "    n_epochs = 5000, \n",
    "    learning_rate = 1e-3, \n",
    "    params = torch.tensor([1.0,0,0,0,0,0], requires_grad=True),\n",
    "    wx = model(*params,x5,x4,x3,x2,x1), \n",
    "    u = u)"
   ]
  },
  {
   "cell_type": "code",
   "execution_count": 55,
   "metadata": {},
   "outputs": [
    {
     "data": {
      "text/plain": [
       "tensor([ 7.6837e-02,  1.6555e-02,  1.0152e-01,  1.2706e-01,  1.7389e-01,\n",
       "        -8.5093e-08], requires_grad=True)"
      ]
     },
     "execution_count": 55,
     "metadata": {},
     "output_type": "execute_result"
    }
   ],
   "source": [
    "#viewing params(w5-w1 and b)\n",
    "params"
   ]
  },
  {
   "cell_type": "code",
   "execution_count": 56,
   "metadata": {},
   "outputs": [
    {
     "data": {
      "image/png": "[encoded data removed]",
      "text/plain": [
       "<Figure size 600x400 with 1 Axes>"
      ]
     },
     "metadata": {
      "needs_background": "light"
     },
     "output_type": "display_data"
    }
   ],
   "source": [
    "#plotting prediction vs validation\n",
    "#Perfect prediction would follow the orange line, y=1x+0\n",
    "from matplotlib import pyplot as plt\n",
    "\n",
    "wx = model(*params,x5,x4,x3,x2,x1) \n",
    "\n",
    "fig = plt.figure(dpi=100)\n",
    "plt.xlabel(\"Known Price (normalized)\")\n",
    "plt.ylabel(\"Price Predicted (normalized)\")\n",
    "plt.plot(u.numpy(), wx.detach().numpy(), 'o') \n",
    "plt.plot(u.numpy(), u.numpy())\n",
    "plt.savefig(\"Price.png\", format=\"png\") "
   ]
  },
  {
   "cell_type": "code",
   "execution_count": null,
   "metadata": {},
   "outputs": [],
   "source": []
  }
 ],
 "metadata": {
  "kernelspec": {
   "display_name": "Python 3 (ipykernel)",
   "language": "python",
   "name": "python3"
  },
  "language_info": {
   "codemirror_mode": {
    "name": "ipython",
    "version": 3
   },
   "file_extension": ".py",
   "mimetype": "text/x-python",
   "name": "python",
   "nbconvert_exporter": "python",
   "pygments_lexer": "ipython3",
   "version": "3.8.12"
  }
 },
 "nbformat": 4,
 "nbformat_minor": 2
}
