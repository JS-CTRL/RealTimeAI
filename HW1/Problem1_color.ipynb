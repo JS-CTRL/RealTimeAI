{
 "cells": [
  {
   "cell_type": "markdown",
   "metadata": {},
   "source": [
    "    Importing Libraries"
   ]
  },
  {
   "cell_type": "code",
   "execution_count": 1,
   "metadata": {},
   "outputs": [],
   "source": [
    "import numpy as np\n",
    "import torch\n",
    "import imageio"
   ]
  },
  {
   "cell_type": "markdown",
   "metadata": {},
   "source": [
    "    Import image"
   ]
  },
  {
   "cell_type": "code",
   "execution_count": 3,
   "metadata": {},
   "outputs": [],
   "source": [
    "img_arr = imageio.imread('../HW1/images/red.jpg')\n"
   ]
  },
  {
   "cell_type": "markdown",
   "metadata": {},
   "source": [
    "    Image shape Height x Width x RGB"
   ]
  },
  {
   "cell_type": "code",
   "execution_count": 4,
   "metadata": {},
   "outputs": [
    {
     "data": {
      "text/plain": [
       "(320, 480, 3)"
      ]
     },
     "execution_count": 4,
     "metadata": {},
     "output_type": "execute_result"
    }
   ],
   "source": [
    "img_arr.shape"
   ]
  },
  {
   "cell_type": "markdown",
   "metadata": {},
   "source": [
    "    Image to torch tensor then changing dimensions to RGBxHeightxWidth"
   ]
  },
  {
   "cell_type": "code",
   "execution_count": 27,
   "metadata": {},
   "outputs": [
    {
     "data": {
      "text/plain": [
       "(torch.Size([3, 320, 480]),\n",
       " tensor([[[175, 175, 175,  ..., 185, 185, 185],\n",
       "          [175, 175, 175,  ..., 185, 185, 185],\n",
       "          [175, 175, 175,  ..., 185, 185, 185],\n",
       "          ...,\n",
       "          [153, 153, 153,  ..., 175, 175, 175],\n",
       "          [153, 153, 153,  ..., 175, 175, 175],\n",
       "          [153, 153, 153,  ..., 175, 175, 175]],\n",
       " \n",
       "         [[ 26,  26,  26,  ...,  55,  54,  55],\n",
       "          [ 26,  26,  26,  ...,  55,  55,  55],\n",
       "          [ 26,  26,  26,  ...,  55,  55,  55],\n",
       "          ...,\n",
       "          [ 23,  23,  23,  ...,  26,  26,  26],\n",
       "          [ 23,  23,  23,  ...,  26,  26,  26],\n",
       "          [ 23,  23,  23,  ...,  26,  26,  26]],\n",
       " \n",
       "         [[ 30,  30,  30,  ...,  57,  59,  57],\n",
       "          [ 30,  30,  30,  ...,  57,  57,  57],\n",
       "          [ 30,  30,  30,  ...,  57,  57,  57],\n",
       "          ...,\n",
       "          [ 25,  25,  25,  ...,  30,  30,  30],\n",
       "          [ 25,  25,  25,  ...,  30,  30,  30],\n",
       "          [ 25,  25,  25,  ...,  30,  30,  30]]], dtype=torch.uint8))"
      ]
     },
     "execution_count": 27,
     "metadata": {},
     "output_type": "execute_result"
    }
   ],
   "source": [
    "img = torch.from_numpy(img_arr)\n",
    "out = img.permute(2, 0, 1)\n",
    "out.shape, out"
   ]
  },
  {
   "cell_type": "markdown",
   "metadata": {},
   "source": [
    "    Converting out to double (required for torch.mean)"
   ]
  },
  {
   "cell_type": "code",
   "execution_count": 28,
   "metadata": {},
   "outputs": [],
   "source": [
    "double=out.to(torch.double)\n"
   ]
  },
  {
   "cell_type": "markdown",
   "metadata": {},
   "source": [
    "    Create array rgb to hold mean for each channel"
   ]
  },
  {
   "cell_type": "code",
   "execution_count": 29,
   "metadata": {},
   "outputs": [],
   "source": [
    "rgb=np.array([0,0,0])\n",
    "for x in range(3):\n",
    "    rgb[x]=torch.mean(double[x,:,:])"
   ]
  },
  {
   "cell_type": "markdown",
   "metadata": {},
   "source": [
    "    Total is the sum of the RGB channels percent is percent color out of total"
   ]
  },
  {
   "cell_type": "code",
   "execution_count": 30,
   "metadata": {},
   "outputs": [
    {
     "data": {
      "text/plain": [
       "array([0.72995781, 0.12658228, 0.14345992])"
      ]
     },
     "execution_count": 30,
     "metadata": {},
     "output_type": "execute_result"
    }
   ],
   "source": [
    "total=np.sum(rgb[:])\n",
    "percent=rgb/total\n",
    "percent"
   ]
  },
  {
   "cell_type": "markdown",
   "metadata": {},
   "source": [
    "    Color is the max index value of rgb where red=0, green=1, blue=2"
   ]
  },
  {
   "cell_type": "code",
   "execution_count": 31,
   "metadata": {},
   "outputs": [
    {
     "data": {
      "text/plain": [
       "0"
      ]
     },
     "execution_count": 31,
     "metadata": {},
     "output_type": "execute_result"
    }
   ],
   "source": [
    "color=percent.argmax(axis=0)\n",
    "color"
   ]
  }
 ],
 "metadata": {
  "kernelspec": {
   "display_name": "Python 3 (ipykernel)",
   "language": "python",
   "name": "python3"
  },
  "language_info": {
   "codemirror_mode": {
    "name": "ipython",
    "version": 3
   },
   "file_extension": ".py",
   "mimetype": "text/x-python",
   "name": "python",
   "nbconvert_exporter": "python",
   "pygments_lexer": "ipython3",
   "version": "3.8.12"
  }
 },
 "nbformat": 4,
 "nbformat_minor": 2
}
