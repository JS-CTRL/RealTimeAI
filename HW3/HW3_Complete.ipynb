{
 "cells": [
  {
   "cell_type": "markdown",
   "metadata": {},
   "source": [
    "#### Jeromey Schwartz\n",
    "#### HW3\n",
    "#### SID: 801055747\n",
    "#### https://github.com/JS-CTRL/RealTimeAI/tree/main/HW3\n"
   ]
  },
  {
   "cell_type": "raw",
   "metadata": {},
   "source": []
  },
  {
   "cell_type": "markdown",
   "metadata": {},
   "source": [
    "### Problem 1: CIFAR 10 CNN"
   ]
  },
  {
   "cell_type": "code",
   "execution_count": 1,
   "metadata": {},
   "outputs": [
    {
     "data": {
      "text/plain": [
       "<torch._C.Generator at 0x206074e8350>"
      ]
     },
     "execution_count": 1,
     "metadata": {},
     "output_type": "execute_result"
    }
   ],
   "source": [
    "#Importing libraries\n",
    "%matplotlib inline\n",
    "from matplotlib import pyplot as plt\n",
    "from torchvision import datasets, transforms\n",
    "import datetime\n",
    "import numpy as np\n",
    "import collections\n",
    "import torch\n",
    "import torch.nn as nn\n",
    "import torch.nn.functional as F\n",
    "import torch.optim as optim\n",
    "from ptflops import get_model_complexity_info\n",
    "\n",
    "torch.set_printoptions(edgeitems=2)\n",
    "torch.manual_seed(123)"
   ]
  },
  {
   "cell_type": "code",
   "execution_count": 2,
   "metadata": {},
   "outputs": [],
   "source": [
    "#defining 10 classes \n",
    "class_names = ['airplane','automobile','bird','cat','deer','dog','frog','horse','ship','truck']"
   ]
  },
  {
   "cell_type": "code",
   "execution_count": 3,
   "metadata": {},
   "outputs": [
    {
     "data": {
      "text/plain": [
       "Dataset CIFAR10\n",
       "    Number of datapoints: 50000\n",
       "    Root location: /data\n",
       "    Split: Train\n",
       "    StandardTransform\n",
       "Transform: Compose(\n",
       "               ToTensor()\n",
       "               Normalize(mean=(0.4915, 0.4823, 0.4468), std=(0.247, 0.2435, 0.2616))\n",
       "           )"
      ]
     },
     "execution_count": 3,
     "metadata": {},
     "output_type": "execute_result"
    }
   ],
   "source": [
    "#loading training data\n",
    "data_path = '/data'\n",
    "cifar10 = datasets.CIFAR10(\n",
    "    data_path, train=True, download=False,\n",
    "    transform=transforms.Compose([\n",
    "        transforms.ToTensor(),\n",
    "        transforms.Normalize((0.4915, 0.4823, 0.4468),\n",
    "                             (0.2470, 0.2435, 0.2616))\n",
    "    ]))\n",
    "cifar10"
   ]
  },
  {
   "cell_type": "code",
   "execution_count": 4,
   "metadata": {},
   "outputs": [
    {
     "name": "stdout",
     "output_type": "stream",
     "text": [
      "Files already downloaded and verified\n"
     ]
    },
    {
     "data": {
      "text/plain": [
       "Dataset CIFAR10\n",
       "    Number of datapoints: 10000\n",
       "    Root location: /data\n",
       "    Split: Test\n",
       "    StandardTransform\n",
       "Transform: Compose(\n",
       "               ToTensor()\n",
       "               Normalize(mean=(0.4915, 0.4823, 0.4468), std=(0.247, 0.2435, 0.2616))\n",
       "           )"
      ]
     },
     "execution_count": 4,
     "metadata": {},
     "output_type": "execute_result"
    }
   ],
   "source": [
    "#loading validation data\n",
    "cifar10_val = datasets.CIFAR10(\n",
    "    data_path, train=False, download=True,\n",
    "    transform=transforms.Compose([\n",
    "        transforms.ToTensor(),\n",
    "        transforms.Normalize((0.4915, 0.4823, 0.4468),\n",
    "                             (0.2470, 0.2435, 0.2616))\n",
    "    ]))\n",
    "cifar10_val"
   ]
  },
  {
   "cell_type": "code",
   "execution_count": 5,
   "metadata": {},
   "outputs": [
    {
     "name": "stdout",
     "output_type": "stream",
     "text": [
      "Training on device cuda.\n"
     ]
    }
   ],
   "source": [
    "#set number of epochs to train for all models\n",
    "num_epochs=150\n",
    "\n",
    "#array to hold max validation value for each model\n",
    "max_accuracy_comparison=np.zeros(6)\n",
    "\n",
    "#dict to hold final(epoch 300) accuracies across different models\n",
    "all_acc_dict = collections.OrderedDict()\n",
    "\n",
    "#dict to hold mac/param count for each model\n",
    "param_count_dict=collections.OrderedDict()\n",
    "\n",
    "#loading data loader for batching(shuffel off to allow repeatability)\n",
    "train_loader = torch.utils.data.DataLoader(cifar10, batch_size=16, shuffle=False)\n",
    "val_loader = torch.utils.data.DataLoader(cifar10_val, batch_size=16, shuffle=False)\n",
    "\n",
    "#load data onto GPU if available\n",
    "device = (torch.device('cuda') if torch.cuda.is_available()\n",
    "          else torch.device('cpu'))\n",
    "print(f\"Training on device {device}.\")"
   ]
  },
  {
   "cell_type": "code",
   "execution_count": 6,
   "metadata": {},
   "outputs": [],
   "source": [
    "#Set up to show how long each epoch takes, both training and validation\n",
    "def validate(model, train_loader, val_loader,print_output=False):\n",
    "    accdict = {}\n",
    "    for name, loader in [(\"train\", train_loader), (\"val\", val_loader)]:\n",
    "        correct = 0\n",
    "        total = 0\n",
    "\n",
    "        with torch.no_grad():\n",
    "            for imgs, labels in loader:\n",
    "                imgs = imgs.to(device=device)\n",
    "                labels = labels.to(device=device)\n",
    "                outputs = model(imgs)\n",
    "                _, predicted = torch.max(outputs, dim=1)\n",
    "                total += labels.shape[0]\n",
    "                correct += int((predicted == labels).sum())\n",
    "        if print_output == True:\n",
    "            print(\"Accuracy {}: {:.2f}\".format(name , correct / total))\n",
    "        accdict[name] = correct / total\n",
    "    return accdict"
   ]
  },
  {
   "cell_type": "code",
   "execution_count": 7,
   "metadata": {},
   "outputs": [],
   "source": [
    "def training_loop(n_epochs, optimizer, model, loss_fn, train_loader,val_loader,acc_dict):\n",
    "    start_time=datetime.datetime.now()\n",
    "    for epoch in range(1, n_epochs + 1):\n",
    "        loss_train = 0.0\n",
    "        for imgs, labels in train_loader:\n",
    "            imgs = imgs.to(device=device) \n",
    "            labels = labels.to(device=device)\n",
    "            outputs = model(imgs)\n",
    "            loss = loss_fn(outputs, labels)\n",
    "\n",
    "            optimizer.zero_grad()\n",
    "            loss.backward()\n",
    "            optimizer.step()\n",
    "\n",
    "            loss_train += loss.item()\n",
    "        \n",
    "        if epoch == 1 or epoch % 10 == 0:\n",
    "            print('{} Epoch {}, Training loss {}'.format(\n",
    "                    datetime.datetime.now()-start_time, epoch,\n",
    "                    loss_train / len(train_loader)))\n",
    "        acc_dict[epoch] = validate(model, train_loader, val_loader)"
   ]
  },
  {
   "cell_type": "code",
   "execution_count": 8,
   "metadata": {},
   "outputs": [],
   "source": [
    "def get_model_info(model_in):\n",
    "    param_dict={}\n",
    "    with torch.cuda.device(0):\n",
    "        net = model_in\n",
    "        macs, params = get_model_complexity_info(net, (3, 224, 224), as_strings=True,\n",
    "                                               print_per_layer_stat=True, verbose=True)\n",
    "        print('{:<30}  {:<8}'.format('Computational complexity: ', macs))\n",
    "        print('{:<30}  {:<8}'.format('Number of parameters: ', params))\n",
    "      \n",
    "        \n",
    "        param_dict['Params']=params\n",
    "        param_dict['macs']=macs\n",
    "    return param_dict"
   ]
  },
  {
   "cell_type": "raw",
   "metadata": {},
   "source": []
  },
  {
   "cell_type": "markdown",
   "metadata": {},
   "source": [
    "#### Part A"
   ]
  },
  {
   "cell_type": "code",
   "execution_count": 9,
   "metadata": {},
   "outputs": [],
   "source": [
    "#Defining the model\n",
    "class NetA(nn.Module):\n",
    "    def __init__(self):\n",
    "        super().__init__()\n",
    "        self.conv1 = nn.Conv2d(3, 8, kernel_size=3, padding=1)\n",
    "        self.fc1 = nn.Linear(8 * 8 * 8, 32)\n",
    "        self.fc2 = nn.Linear(32, 10)\n",
    "        \n",
    "    def forward(self, x):\n",
    "        out = F.max_pool2d(torch.tanh(self.conv1(x)), 4)\n",
    "        out = out.view(-1, 8 * 8 * 8)\n",
    "        out = torch.tanh(self.fc1(out))\n",
    "        out = self.fc2(out)\n",
    "        return out"
   ]
  },
  {
   "cell_type": "code",
   "execution_count": 10,
   "metadata": {},
   "outputs": [
    {
     "name": "stdout",
     "output_type": "stream",
     "text": [
      "0:00:19.681903 Epoch 1, Training loss 2.1605649863815306\n",
      "0:04:47.989971 Epoch 10, Training loss 1.455136698589325\n",
      "0:09:47.290230 Epoch 20, Training loss 1.2936052706336976\n",
      "0:14:48.255003 Epoch 30, Training loss 1.1938993736839294\n",
      "0:19:49.454990 Epoch 40, Training loss 1.1284097987270356\n",
      "0:24:49.333783 Epoch 50, Training loss 1.0831460089588165\n",
      "0:29:48.470894 Epoch 60, Training loss 1.0489709366321565\n",
      "0:34:53.135537 Epoch 70, Training loss 1.0206624280548096\n",
      "0:39:57.324927 Epoch 80, Training loss 0.9952706547546387\n",
      "0:44:59.808797 Epoch 90, Training loss 0.9735998730182648\n",
      "0:50:10.337825 Epoch 100, Training loss 0.9542308826065063\n",
      "0:55:19.503612 Epoch 110, Training loss 0.9367282503795624\n",
      "1:00:27.582157 Epoch 120, Training loss 0.9210166981315613\n",
      "1:05:41.041921 Epoch 130, Training loss 0.9068104931163787\n",
      "1:10:56.388658 Epoch 140, Training loss 0.8940298349857331\n",
      "1:16:06.543376 Epoch 150, Training loss 0.8824672892856598\n",
      "Accuracy train: 0.70\n",
      "Accuracy val: 0.64\n"
     ]
    }
   ],
   "source": [
    "#Running the model\n",
    "NetA_Acc=collections.OrderedDict()\n",
    "model = NetA().to(device=device)\n",
    "optimizer = optim.SGD(model.parameters(), lr=1e-3)\n",
    "loss_fn = nn.CrossEntropyLoss()\n",
    "\n",
    "training_loop(\n",
    "    n_epochs = num_epochs,\n",
    "    optimizer = optimizer,\n",
    "    model = model,\n",
    "    loss_fn = loss_fn,\n",
    "    train_loader = train_loader,\n",
    "    val_loader = val_loader,\n",
    "    acc_dict=NetA_Acc\n",
    ")\n",
    "all_acc_dict['CNN_A'] = validate(model, train_loader, val_loader, print_output=True)"
   ]
  },
  {
   "cell_type": "code",
   "execution_count": 11,
   "metadata": {
    "scrolled": true
   },
   "outputs": [
    {
     "name": "stdout",
     "output_type": "stream",
     "text": [
      "Warning: module NetA is treated as a zero-op.\n",
      "NetA(\n",
      "  0.017 M, 100.000% Params, 0.012 GMac, 100.000% MACs, \n",
      "  (conv1): Conv2d(0.0 M, 1.320% Params, 0.011 GMac, 93.212% MACs, 3, 8, kernel_size=(3, 3), stride=(1, 1), padding=(1, 1))\n",
      "  (fc1): Linear(0.016 M, 96.735% Params, 0.001 GMac, 6.658% MACs, in_features=512, out_features=32, bias=True)\n",
      "  (fc2): Linear(0.0 M, 1.945% Params, 0.0 GMac, 0.130% MACs, in_features=32, out_features=10, bias=True)\n",
      ")\n",
      "Computational complexity:       0.01 GMac\n",
      "Number of parameters:           16.97 k \n"
     ]
    }
   ],
   "source": [
    "#Model size/Complexity\n",
    "param_count_dict['CNN_A']=get_model_info(model)"
   ]
  },
  {
   "cell_type": "code",
   "execution_count": 12,
   "metadata": {},
   "outputs": [
    {
     "data": {
      "image/png": "[encoded data removed]",
      "text/plain": [
       "<Figure size 432x288 with 1 Axes>"
      ]
     },
     "metadata": {
      "needs_background": "light"
     },
     "output_type": "display_data"
    }
   ],
   "source": [
    "#Plotting training and validation accuracy vs epoch\n",
    "trn_acc = [v['train'] for k, v in NetA_Acc.items()]\n",
    "val_acc = [v['val'] for k, v in NetA_Acc.items()]\n",
    "\n",
    "width =0.3\n",
    "plt.title(Title_Name)\n",
    "plt.plot(np.arange(len(trn_acc)), trn_acc,  label='train')\n",
    "plt.plot(np.arange(len(val_acc))+ width, val_acc,  label='val')\n",
    "plt.ylabel('Accuracy (%)')\n",
    "plt.xlabel('Epoch')\n",
    "plt.legend(loc='lower right')\n",
    "plt.savefig('Graphs/CNN_A_Accuracy_150.png', bbox_inches='tight')\n",
    "plt.show()"
   ]
  },
  {
   "cell_type": "code",
   "execution_count": 13,
   "metadata": {},
   "outputs": [
    {
     "name": "stdout",
     "output_type": "stream",
     "text": [
      "Max validation value for CNN_A is 0.6418 on epoch 143\n"
     ]
    }
   ],
   "source": [
    "#Finding max validation accuracy and its epoch\n",
    "NetA_max_val=0\n",
    "NetA_max_val_epoch=0\n",
    "tmp=0\n",
    "for i in range(num_epochs):\n",
    "    tmp=NetA_Acc[i+1]['val']\n",
    "    if (tmp > NetA_max_val):\n",
    "        NetA_max_val=tmp\n",
    "        NetA_max_val_epoch=i+1\n",
    "max_accuracy_comparison[0]=NetA_max_val\n",
    "print('Max validation value for CNN_A is',NetA_max_val,'on epoch',NetA_max_val_epoch)"
   ]
  },
  {
   "cell_type": "raw",
   "metadata": {},
   "source": []
  },
  {
   "cell_type": "markdown",
   "metadata": {},
   "source": [
    "#### Part B"
   ]
  },
  {
   "cell_type": "code",
   "execution_count": 14,
   "metadata": {},
   "outputs": [],
   "source": [
    "#Defining the model\n",
    "class NetB(nn.Module):\n",
    "    def __init__(self):\n",
    "        super().__init__()\n",
    "        self.conv1 = nn.Conv2d(3, 16, kernel_size=3, padding=1)\n",
    "        self.conv2 = nn.Conv2d(16, 8, kernel_size=3, padding=1)\n",
    "        self.act1 = nn.Tanh()\n",
    "        self.pool1 = nn.MaxPool2d(2)\n",
    "        self.fc1 = nn.Linear(8 * 8 * 8, 32)\n",
    "        self.fc2 = nn.Linear(32, 10)\n",
    "\n",
    "    def forward(self, x):\n",
    "        out = self.pool1(self.act1(self.conv1(x)))\n",
    "        out = F.max_pool2d(torch.tanh(self.conv2(out)), 2)\n",
    "        out = out.view(-1, 8 * 8 * 8) # <1>\n",
    "        out = torch.tanh(self.fc1(out))\n",
    "        out = self.fc2(out)\n",
    "        return out"
   ]
  },
  {
   "cell_type": "code",
   "execution_count": 15,
   "metadata": {},
   "outputs": [
    {
     "name": "stdout",
     "output_type": "stream",
     "text": [
      "0:00:16.847333 Epoch 1, Training loss 2.1595796466445925\n",
      "0:05:10.257500 Epoch 10, Training loss 1.4981561505889893\n",
      "0:10:31.145018 Epoch 20, Training loss 1.2843281418037416\n",
      "0:15:56.123907 Epoch 30, Training loss 1.1450551690864563\n",
      "0:21:18.918738 Epoch 40, Training loss 1.0630111858558655\n",
      "0:26:42.553830 Epoch 50, Training loss 1.0022866076850891\n",
      "0:32:10.385763 Epoch 60, Training loss 0.9465530207824707\n",
      "0:37:43.852807 Epoch 70, Training loss 0.9045999013137818\n",
      "0:43:17.285779 Epoch 80, Training loss 0.874003497800827\n",
      "0:48:50.751793 Epoch 90, Training loss 0.8489510723209381\n",
      "0:54:24.421531 Epoch 100, Training loss 0.8271632088708878\n",
      "0:59:59.101158 Epoch 110, Training loss 0.8078298511981964\n",
      "1:05:33.996511 Epoch 120, Training loss 0.7904933983039856\n",
      "1:11:08.291302 Epoch 130, Training loss 0.7748601593971253\n",
      "1:16:43.038028 Epoch 140, Training loss 0.7606549209976197\n",
      "1:22:18.457868 Epoch 150, Training loss 0.7476814960956574\n",
      "Accuracy train: 0.74\n",
      "Accuracy val: 0.67\n"
     ]
    }
   ],
   "source": [
    "#Running the model\n",
    "NetB_Acc=collections.OrderedDict()\n",
    "model = NetB().to(device=device)\n",
    "optimizer = optim.SGD(model.parameters(), lr=1e-3)\n",
    "loss_fn = nn.CrossEntropyLoss()\n",
    "\n",
    "training_loop(\n",
    "    n_epochs = num_epochs,\n",
    "    optimizer = optimizer,\n",
    "    model = model,\n",
    "    loss_fn = loss_fn,\n",
    "    train_loader = train_loader,\n",
    "    val_loader = val_loader,\n",
    "    acc_dict=NetB_Acc\n",
    ")\n",
    "all_acc_dict[\"CNN_B\"] = validate(model, train_loader, val_loader, print_output=True)\n",
    "#torch.save(model.state_dict(), 'batch_1000_epoch_300.pt')"
   ]
  },
  {
   "cell_type": "code",
   "execution_count": 16,
   "metadata": {},
   "outputs": [
    {
     "name": "stdout",
     "output_type": "stream",
     "text": [
      "Warning: module Tanh is treated as a zero-op.\n",
      "Warning: module NetB is treated as a zero-op.\n",
      "NetB(\n",
      "  0.018 M, 100.000% Params, 0.039 GMac, 100.000% MACs, \n",
      "  (conv1): Conv2d(0.0 M, 2.441% Params, 0.022 GMac, 58.158% MACs, 3, 16, kernel_size=(3, 3), stride=(1, 1), padding=(1, 1))\n",
      "  (conv2): Conv2d(0.001 M, 6.320% Params, 0.015 GMac, 37.647% MACs, 16, 8, kernel_size=(3, 3), stride=(1, 1), padding=(1, 1))\n",
      "  (act1): Tanh(0.0 M, 0.000% Params, 0.0 GMac, 0.000% MACs, )\n",
      "  (pool1): MaxPool2d(0.0 M, 0.000% Params, 0.001 GMac, 2.077% MACs, kernel_size=2, stride=2, padding=0, dilation=1, ceil_mode=False)\n",
      "  (fc1): Linear(0.016 M, 89.441% Params, 0.001 GMac, 2.077% MACs, in_features=512, out_features=32, bias=True)\n",
      "  (fc2): Linear(0.0 M, 1.798% Params, 0.0 GMac, 0.041% MACs, in_features=32, out_features=10, bias=True)\n",
      ")\n",
      "Computational complexity:       0.04 GMac\n",
      "Number of parameters:           18.35 k \n"
     ]
    }
   ],
   "source": [
    "#Model size/Complexity\n",
    "param_count_dict['CNN_B']=get_model_info(model)"
   ]
  },
  {
   "cell_type": "code",
   "execution_count": 17,
   "metadata": {},
   "outputs": [
    {
     "data": {
      "image/png": "[encoded data removed]",
      "text/plain": [
       "<Figure size 432x288 with 1 Axes>"
      ]
     },
     "metadata": {
      "needs_background": "light"
     },
     "output_type": "display_data"
    }
   ],
   "source": [
    "#Plotting training and validation accuracy vs epoch\n",
    "trn_acc = [v['train'] for k, v in NetB_Acc.items()]\n",
    "val_acc = [v['val'] for k, v in NetB_Acc.items()]\n",
    "\n",
    "plt.title(\"CNN_B\")\n",
    "plt.plot(np.arange(len(trn_acc)), trn_acc,  label='train')\n",
    "plt.plot(np.arange(len(val_acc))+ width, val_acc,  label='val')\n",
    "plt.ylabel('Accuracy (%)')\n",
    "plt.xlabel('Epoch')\n",
    "plt.legend(loc='lower right')\n",
    "plt.savefig('Graphs/CNN_B_Accuracy_150.png', bbox_inches='tight')\n",
    "plt.show()"
   ]
  },
  {
   "cell_type": "code",
   "execution_count": 18,
   "metadata": {},
   "outputs": [
    {
     "name": "stdout",
     "output_type": "stream",
     "text": [
      "Max validation value for CNN_B is 0.6739 on epoch 142\n"
     ]
    }
   ],
   "source": [
    "#Finding max validation accuracy and its epoch\n",
    "NetB_max_val=0\n",
    "NetB_max_val_epoch=0\n",
    "tmp=0\n",
    "for i in range(num_epochs):\n",
    "    tmp=NetB_Acc[i+1]['val']\n",
    "    if (tmp > NetB_max_val):\n",
    "        NetB_max_val=tmp\n",
    "        NetB_max_val_epoch=i+1\n",
    "max_accuracy_comparison[1]=NetB_max_val\n",
    "print('Max validation value for CNN_B is',NetB_max_val,'on epoch',NetB_max_val_epoch)"
   ]
  },
  {
   "cell_type": "raw",
   "metadata": {},
   "source": []
  },
  {
   "cell_type": "markdown",
   "metadata": {},
   "source": [
    "### Problem 2: CIFAR 10 ResNet"
   ]
  },
  {
   "cell_type": "markdown",
   "metadata": {},
   "source": [
    "#### Part A: ResNet-10"
   ]
  },
  {
   "cell_type": "code",
   "execution_count": 19,
   "metadata": {},
   "outputs": [],
   "source": [
    "class ResBlock(nn.Module):\n",
    "    def __init__(self, n_chans):\n",
    "        super(ResBlock, self).__init__()\n",
    "        self.conv = nn.Conv2d(n_chans, n_chans, kernel_size=3,\n",
    "                              padding=1, bias=False)  \n",
    "        self.batch_norm = nn.BatchNorm2d(num_features=n_chans)\n",
    "        torch.nn.init.kaiming_normal_(self.conv.weight,\n",
    "                                      nonlinearity='relu')\n",
    "        torch.nn.init.constant_(self.batch_norm.weight, 0.5)\n",
    "        torch.nn.init.zeros_(self.batch_norm.bias)\n",
    "\n",
    "    def forward(self, x):\n",
    "        out = self.conv(x)\n",
    "        out = self.batch_norm(out)\n",
    "        out = torch.relu(out)\n",
    "        return out + x"
   ]
  },
  {
   "cell_type": "code",
   "execution_count": 20,
   "metadata": {},
   "outputs": [],
   "source": [
    "class ResNet10(nn.Module):\n",
    "    def __init__(self, n_chans1=32, n_blocks=10):\n",
    "        super().__init__()\n",
    "        self.n_chans1 = n_chans1\n",
    "        self.conv1 = nn.Conv2d(3, n_chans1, kernel_size=3, padding=1)\n",
    "        self.resblocks = nn.Sequential(*(n_blocks * [ResBlock(n_chans=n_chans1)]))\n",
    "        self.fc1 = nn.Linear(8 * 8 * n_chans1, 32)\n",
    "        self.fc2 = nn.Linear(32, 10)\n",
    "        \n",
    "    def forward(self, x):\n",
    "        out = F.max_pool2d(torch.relu(self.conv1(x)), 2)\n",
    "        out = self.resblocks(out)\n",
    "        out = F.max_pool2d(out, 2)\n",
    "        out = out.view(-1, 8 * 8 * self.n_chans1)\n",
    "        out = torch.relu(self.fc1(out))\n",
    "        out = self.fc2(out)\n",
    "        return out"
   ]
  },
  {
   "cell_type": "code",
   "execution_count": 21,
   "metadata": {},
   "outputs": [
    {
     "name": "stdout",
     "output_type": "stream",
     "text": [
      "0:00:32.143759 Epoch 1, Training loss 1.670492380657196\n",
      "0:08:33.737146 Epoch 10, Training loss 0.8791415571689606\n",
      "0:17:27.585585 Epoch 20, Training loss 0.6677674547481537\n",
      "0:26:17.405881 Epoch 30, Training loss 0.5208570518517495\n",
      "0:35:12.117588 Epoch 40, Training loss 0.3945508695077896\n",
      "0:44:02.734101 Epoch 50, Training loss 0.29386621955126524\n",
      "0:52:54.775038 Epoch 60, Training loss 0.24157326368659734\n",
      "1:02:01.506646 Epoch 70, Training loss 0.2002396545922756\n",
      "1:11:02.337852 Epoch 80, Training loss 0.1611895779967308\n",
      "1:19:56.798897 Epoch 90, Training loss 0.1448541195956804\n",
      "1:29:34.442609 Epoch 100, Training loss 0.11253682225305588\n",
      "1:39:28.626400 Epoch 110, Training loss 0.08961697806826327\n",
      "1:49:20.187588 Epoch 120, Training loss 0.09074521819687914\n",
      "1:59:02.393923 Epoch 130, Training loss 0.08231208207511342\n",
      "2:08:57.646058 Epoch 140, Training loss 0.07025332252292661\n",
      "2:19:01.868884 Epoch 150, Training loss 0.056008280340376075\n",
      "Accuracy train: 0.91\n",
      "Accuracy val: 0.62\n"
     ]
    }
   ],
   "source": [
    "#Running the model\n",
    "ResNet10_Acc=collections.OrderedDict()\n",
    "model = ResNet10(n_chans1=32).to(device=device)\n",
    "optimizer = optim.SGD(model.parameters(), lr=1e-3)\n",
    "loss_fn = nn.CrossEntropyLoss()\n",
    "\n",
    "training_loop(\n",
    "    n_epochs = num_epochs,\n",
    "    optimizer = optimizer,\n",
    "    model = model,\n",
    "    loss_fn = loss_fn,\n",
    "    train_loader = train_loader,\n",
    "    val_loader = val_loader,\n",
    "    acc_dict=ResNet10_Acc\n",
    ")\n",
    "\n",
    "all_acc_dict[\"ResNet10\"] = validate(model, train_loader, val_loader, print_output=True)"
   ]
  },
  {
   "cell_type": "code",
   "execution_count": 22,
   "metadata": {},
   "outputs": [
    {
     "name": "stdout",
     "output_type": "stream",
     "text": [
      "Warning: module ResBlock is treated as a zero-op.\n",
      "Warning: module ResNet10 is treated as a zero-op.\n",
      "ResNet10(\n",
      "  0.076 M, 100.000% Params, 1.212 GMac, 100.000% MACs, \n",
      "  (conv1): Conv2d(0.001 M, 1.178% Params, 0.045 GMac, 3.709% MACs, 3, 32, kernel_size=(3, 3), stride=(1, 1), padding=(1, 1))\n",
      "  (resblocks): Sequential(\n",
      "    0.009 M, 12.199% Params, 1.164 GMac, 96.025% MACs, \n",
      "    (0): ResBlock(\n",
      "      0.009 M, 12.199% Params, 1.164 GMac, 96.025% MACs, \n",
      "      (conv): Conv2d(0.009 M, 12.115% Params, 1.156 GMac, 95.363% MACs, 32, 32, kernel_size=(3, 3), stride=(1, 1), padding=(1, 1), bias=False)\n",
      "      (batch_norm): BatchNorm2d(0.0 M, 0.084% Params, 0.008 GMac, 0.662% MACs, 32, eps=1e-05, momentum=0.1, affine=True, track_running_stats=True)\n",
      "    )\n",
      "    (1): ResBlock(\n",
      "      0.009 M, 12.199% Params, 1.164 GMac, 96.025% MACs, \n",
      "      (conv): Conv2d(0.009 M, 12.115% Params, 1.156 GMac, 95.363% MACs, 32, 32, kernel_size=(3, 3), stride=(1, 1), padding=(1, 1), bias=False)\n",
      "      (batch_norm): BatchNorm2d(0.0 M, 0.084% Params, 0.008 GMac, 0.662% MACs, 32, eps=1e-05, momentum=0.1, affine=True, track_running_stats=True)\n",
      "    )\n",
      "    (2): ResBlock(\n",
      "      0.009 M, 12.199% Params, 1.164 GMac, 96.025% MACs, \n",
      "      (conv): Conv2d(0.009 M, 12.115% Params, 1.156 GMac, 95.363% MACs, 32, 32, kernel_size=(3, 3), stride=(1, 1), padding=(1, 1), bias=False)\n",
      "      (batch_norm): BatchNorm2d(0.0 M, 0.084% Params, 0.008 GMac, 0.662% MACs, 32, eps=1e-05, momentum=0.1, affine=True, track_running_stats=True)\n",
      "    )\n",
      "    (3): ResBlock(\n",
      "      0.009 M, 12.199% Params, 1.164 GMac, 96.025% MACs, \n",
      "      (conv): Conv2d(0.009 M, 12.115% Params, 1.156 GMac, 95.363% MACs, 32, 32, kernel_size=(3, 3), stride=(1, 1), padding=(1, 1), bias=False)\n",
      "      (batch_norm): BatchNorm2d(0.0 M, 0.084% Params, 0.008 GMac, 0.662% MACs, 32, eps=1e-05, momentum=0.1, affine=True, track_running_stats=True)\n",
      "    )\n",
      "    (4): ResBlock(\n",
      "      0.009 M, 12.199% Params, 1.164 GMac, 96.025% MACs, \n",
      "      (conv): Conv2d(0.009 M, 12.115% Params, 1.156 GMac, 95.363% MACs, 32, 32, kernel_size=(3, 3), stride=(1, 1), padding=(1, 1), bias=False)\n",
      "      (batch_norm): BatchNorm2d(0.0 M, 0.084% Params, 0.008 GMac, 0.662% MACs, 32, eps=1e-05, momentum=0.1, affine=True, track_running_stats=True)\n",
      "    )\n",
      "    (5): ResBlock(\n",
      "      0.009 M, 12.199% Params, 1.164 GMac, 96.025% MACs, \n",
      "      (conv): Conv2d(0.009 M, 12.115% Params, 1.156 GMac, 95.363% MACs, 32, 32, kernel_size=(3, 3), stride=(1, 1), padding=(1, 1), bias=False)\n",
      "      (batch_norm): BatchNorm2d(0.0 M, 0.084% Params, 0.008 GMac, 0.662% MACs, 32, eps=1e-05, momentum=0.1, affine=True, track_running_stats=True)\n",
      "    )\n",
      "    (6): ResBlock(\n",
      "      0.009 M, 12.199% Params, 1.164 GMac, 96.025% MACs, \n",
      "      (conv): Conv2d(0.009 M, 12.115% Params, 1.156 GMac, 95.363% MACs, 32, 32, kernel_size=(3, 3), stride=(1, 1), padding=(1, 1), bias=False)\n",
      "      (batch_norm): BatchNorm2d(0.0 M, 0.084% Params, 0.008 GMac, 0.662% MACs, 32, eps=1e-05, momentum=0.1, affine=True, track_running_stats=True)\n",
      "    )\n",
      "    (7): ResBlock(\n",
      "      0.009 M, 12.199% Params, 1.164 GMac, 96.025% MACs, \n",
      "      (conv): Conv2d(0.009 M, 12.115% Params, 1.156 GMac, 95.363% MACs, 32, 32, kernel_size=(3, 3), stride=(1, 1), padding=(1, 1), bias=False)\n",
      "      (batch_norm): BatchNorm2d(0.0 M, 0.084% Params, 0.008 GMac, 0.662% MACs, 32, eps=1e-05, momentum=0.1, affine=True, track_running_stats=True)\n",
      "    )\n",
      "    (8): ResBlock(\n",
      "      0.009 M, 12.199% Params, 1.164 GMac, 96.025% MACs, \n",
      "      (conv): Conv2d(0.009 M, 12.115% Params, 1.156 GMac, 95.363% MACs, 32, 32, kernel_size=(3, 3), stride=(1, 1), padding=(1, 1), bias=False)\n",
      "      (batch_norm): BatchNorm2d(0.0 M, 0.084% Params, 0.008 GMac, 0.662% MACs, 32, eps=1e-05, momentum=0.1, affine=True, track_running_stats=True)\n",
      "    )\n",
      "    (9): ResBlock(\n",
      "      0.009 M, 12.199% Params, 1.164 GMac, 96.025% MACs, \n",
      "      (conv): Conv2d(0.009 M, 12.115% Params, 1.156 GMac, 95.363% MACs, 32, 32, kernel_size=(3, 3), stride=(1, 1), padding=(1, 1), bias=False)\n",
      "      (batch_norm): BatchNorm2d(0.0 M, 0.084% Params, 0.008 GMac, 0.662% MACs, 32, eps=1e-05, momentum=0.1, affine=True, track_running_stats=True)\n",
      "    )\n",
      "  )\n",
      "  (fc1): Linear(0.066 M, 86.190% Params, 0.003 GMac, 0.265% MACs, in_features=2048, out_features=32, bias=True)\n",
      "  (fc2): Linear(0.0 M, 0.434% Params, 0.0 GMac, 0.001% MACs, in_features=32, out_features=10, bias=True)\n",
      ")\n",
      "Computational complexity:       1.21 GMac\n",
      "Number of parameters:           76.07 k \n"
     ]
    }
   ],
   "source": [
    "#Model size/Complexity\n",
    "param_count_dict[\"ResNet10\"]=get_model_info(model)"
   ]
  },
  {
   "cell_type": "code",
   "execution_count": 23,
   "metadata": {},
   "outputs": [
    {
     "data": {
      "image/png": "[encoded data removed]",
      "text/plain": [
       "<Figure size 432x288 with 1 Axes>"
      ]
     },
     "metadata": {
      "needs_background": "light"
     },
     "output_type": "display_data"
    }
   ],
   "source": [
    "#Plotting training and validation accuracy vs epoch\n",
    "trn_acc = [v['train'] for k, v in ResNet10_Acc.items()]\n",
    "val_acc = [v['val'] for k, v in ResNet10_Acc.items()]\n",
    "\n",
    "plt.title(\"ResNet10\")\n",
    "plt.plot(np.arange(len(trn_acc)), trn_acc,  label='train')\n",
    "plt.plot(np.arange(len(val_acc))+ width, val_acc,  label='val')\n",
    "plt.ylabel('Accuracy (%)')\n",
    "plt.xlabel('Epoch')\n",
    "plt.legend(loc='lower right')\n",
    "plt.savefig('Graphs/ResNet10_Accuracy_150.png', bbox_inches='tight')\n",
    "plt.show()"
   ]
  },
  {
   "cell_type": "code",
   "execution_count": 24,
   "metadata": {},
   "outputs": [
    {
     "name": "stdout",
     "output_type": "stream",
     "text": [
      "Max validation value for ResNet10 is 0.6711 on epoch 18\n"
     ]
    }
   ],
   "source": [
    "#Finding max validation accuracy and its epoch\n",
    "ResNet10_max_val=0\n",
    "ResNet10_max_val_epoch=0\n",
    "tmp=0\n",
    "for i in range(num_epochs):\n",
    "    tmp=ResNet10_Acc[i+1]['val']\n",
    "    if (tmp > ResNet10_max_val):\n",
    "        ResNet10_max_val=tmp\n",
    "        ResNet10_max_val_epoch=i+1\n",
    "max_accuracy_comparison[2]=ResNet10_max_val\n",
    "print('Max validation value for ResNet10 is',ResNet10_max_val,'on epoch',ResNet10_max_val_epoch)"
   ]
  },
  {
   "cell_type": "raw",
   "metadata": {},
   "source": []
  },
  {
   "cell_type": "markdown",
   "metadata": {},
   "source": [
    "#### Part B: Weight Decay w/ lambda of 0.001"
   ]
  },
  {
   "cell_type": "code",
   "execution_count": 27,
   "metadata": {},
   "outputs": [],
   "source": [
    "#Defining the model\n",
    "def weight_decay(n_epochs, optimizer, model, loss_fn, train_loader,acc_dict):\n",
    "    start_time=datetime.datetime.now()\n",
    "    for epoch in range(1, n_epochs + 1):\n",
    "        loss_train = 0.0\n",
    "        for imgs, labels in train_loader:\n",
    "            imgs = imgs.to(device=device)\n",
    "            labels = labels.to(device=device)\n",
    "            outputs = model(imgs)\n",
    "            loss = loss_fn(outputs, labels)\n",
    "\n",
    "            l2_lambda = 0.001\n",
    "            l2_norm = sum(p.pow(2.0).sum()\n",
    "                          for p in model.parameters())  \n",
    "            loss = loss + l2_lambda * l2_norm\n",
    "\n",
    "            optimizer.zero_grad()\n",
    "            loss.backward()\n",
    "            optimizer.step()\n",
    "            \n",
    "            loss_train += loss.item()\n",
    "        if epoch == 1 or epoch % 10 == 0:\n",
    "            print('{} Epoch {}, Training loss {}'.format(\n",
    "                datetime.datetime.now()-start_time, epoch,\n",
    "                loss_train / len(train_loader)))\n",
    "        acc_dict[epoch]=validate(model, train_loader, val_loader)"
   ]
  },
  {
   "cell_type": "code",
   "execution_count": 28,
   "metadata": {
    "scrolled": true
   },
   "outputs": [
    {
     "name": "stdout",
     "output_type": "stream",
     "text": [
      "0:00:37.323456 Epoch 1, Training loss 1.7978973439598083\n",
      "0:09:29.680783 Epoch 10, Training loss 0.975541273021698\n",
      "0:19:27.327193 Epoch 20, Training loss 0.7716907100486755\n",
      "0:29:18.630792 Epoch 30, Training loss 0.6332959752321243\n",
      "Accuracy train: 0.80\n",
      "Accuracy val: 0.67\n"
     ]
    }
   ],
   "source": [
    "#Running the model\n",
    "Weight_Decay_Acc=collections.OrderedDict()\n",
    "model = ResNet10(n_chans1=32).to(device=device)\n",
    "optimizer = optim.SGD(model.parameters(), lr=1e-3)\n",
    "loss_fn = nn.CrossEntropyLoss()\n",
    "\n",
    "weight_decay(\n",
    "    n_epochs = 30,\n",
    "    optimizer = optimizer,\n",
    "    model = model,\n",
    "    loss_fn = loss_fn,\n",
    "    train_loader = train_loader,\n",
    "    acc_dict=Weight_Decay_Acc\n",
    ")\n",
    "all_acc_dict[\"Weight_Decay\"] = validate(model, train_loader, val_loader, print_output=True)"
   ]
  },
  {
   "cell_type": "code",
   "execution_count": 29,
   "metadata": {
    "scrolled": true
   },
   "outputs": [
    {
     "name": "stdout",
     "output_type": "stream",
     "text": [
      "Warning: module ResBlock is treated as a zero-op.\n",
      "Warning: module ResNet10 is treated as a zero-op.\n",
      "ResNet10(\n",
      "  0.076 M, 100.000% Params, 1.212 GMac, 100.000% MACs, \n",
      "  (conv1): Conv2d(0.001 M, 1.178% Params, 0.045 GMac, 3.709% MACs, 3, 32, kernel_size=(3, 3), stride=(1, 1), padding=(1, 1))\n",
      "  (resblocks): Sequential(\n",
      "    0.009 M, 12.199% Params, 1.164 GMac, 96.025% MACs, \n",
      "    (0): ResBlock(\n",
      "      0.009 M, 12.199% Params, 1.164 GMac, 96.025% MACs, \n",
      "      (conv): Conv2d(0.009 M, 12.115% Params, 1.156 GMac, 95.363% MACs, 32, 32, kernel_size=(3, 3), stride=(1, 1), padding=(1, 1), bias=False)\n",
      "      (batch_norm): BatchNorm2d(0.0 M, 0.084% Params, 0.008 GMac, 0.662% MACs, 32, eps=1e-05, momentum=0.1, affine=True, track_running_stats=True)\n",
      "    )\n",
      "    (1): ResBlock(\n",
      "      0.009 M, 12.199% Params, 1.164 GMac, 96.025% MACs, \n",
      "      (conv): Conv2d(0.009 M, 12.115% Params, 1.156 GMac, 95.363% MACs, 32, 32, kernel_size=(3, 3), stride=(1, 1), padding=(1, 1), bias=False)\n",
      "      (batch_norm): BatchNorm2d(0.0 M, 0.084% Params, 0.008 GMac, 0.662% MACs, 32, eps=1e-05, momentum=0.1, affine=True, track_running_stats=True)\n",
      "    )\n",
      "    (2): ResBlock(\n",
      "      0.009 M, 12.199% Params, 1.164 GMac, 96.025% MACs, \n",
      "      (conv): Conv2d(0.009 M, 12.115% Params, 1.156 GMac, 95.363% MACs, 32, 32, kernel_size=(3, 3), stride=(1, 1), padding=(1, 1), bias=False)\n",
      "      (batch_norm): BatchNorm2d(0.0 M, 0.084% Params, 0.008 GMac, 0.662% MACs, 32, eps=1e-05, momentum=0.1, affine=True, track_running_stats=True)\n",
      "    )\n",
      "    (3): ResBlock(\n",
      "      0.009 M, 12.199% Params, 1.164 GMac, 96.025% MACs, \n",
      "      (conv): Conv2d(0.009 M, 12.115% Params, 1.156 GMac, 95.363% MACs, 32, 32, kernel_size=(3, 3), stride=(1, 1), padding=(1, 1), bias=False)\n",
      "      (batch_norm): BatchNorm2d(0.0 M, 0.084% Params, 0.008 GMac, 0.662% MACs, 32, eps=1e-05, momentum=0.1, affine=True, track_running_stats=True)\n",
      "    )\n",
      "    (4): ResBlock(\n",
      "      0.009 M, 12.199% Params, 1.164 GMac, 96.025% MACs, \n",
      "      (conv): Conv2d(0.009 M, 12.115% Params, 1.156 GMac, 95.363% MACs, 32, 32, kernel_size=(3, 3), stride=(1, 1), padding=(1, 1), bias=False)\n",
      "      (batch_norm): BatchNorm2d(0.0 M, 0.084% Params, 0.008 GMac, 0.662% MACs, 32, eps=1e-05, momentum=0.1, affine=True, track_running_stats=True)\n",
      "    )\n",
      "    (5): ResBlock(\n",
      "      0.009 M, 12.199% Params, 1.164 GMac, 96.025% MACs, \n",
      "      (conv): Conv2d(0.009 M, 12.115% Params, 1.156 GMac, 95.363% MACs, 32, 32, kernel_size=(3, 3), stride=(1, 1), padding=(1, 1), bias=False)\n",
      "      (batch_norm): BatchNorm2d(0.0 M, 0.084% Params, 0.008 GMac, 0.662% MACs, 32, eps=1e-05, momentum=0.1, affine=True, track_running_stats=True)\n",
      "    )\n",
      "    (6): ResBlock(\n",
      "      0.009 M, 12.199% Params, 1.164 GMac, 96.025% MACs, \n",
      "      (conv): Conv2d(0.009 M, 12.115% Params, 1.156 GMac, 95.363% MACs, 32, 32, kernel_size=(3, 3), stride=(1, 1), padding=(1, 1), bias=False)\n",
      "      (batch_norm): BatchNorm2d(0.0 M, 0.084% Params, 0.008 GMac, 0.662% MACs, 32, eps=1e-05, momentum=0.1, affine=True, track_running_stats=True)\n",
      "    )\n",
      "    (7): ResBlock(\n",
      "      0.009 M, 12.199% Params, 1.164 GMac, 96.025% MACs, \n",
      "      (conv): Conv2d(0.009 M, 12.115% Params, 1.156 GMac, 95.363% MACs, 32, 32, kernel_size=(3, 3), stride=(1, 1), padding=(1, 1), bias=False)\n",
      "      (batch_norm): BatchNorm2d(0.0 M, 0.084% Params, 0.008 GMac, 0.662% MACs, 32, eps=1e-05, momentum=0.1, affine=True, track_running_stats=True)\n",
      "    )\n",
      "    (8): ResBlock(\n",
      "      0.009 M, 12.199% Params, 1.164 GMac, 96.025% MACs, \n",
      "      (conv): Conv2d(0.009 M, 12.115% Params, 1.156 GMac, 95.363% MACs, 32, 32, kernel_size=(3, 3), stride=(1, 1), padding=(1, 1), bias=False)\n",
      "      (batch_norm): BatchNorm2d(0.0 M, 0.084% Params, 0.008 GMac, 0.662% MACs, 32, eps=1e-05, momentum=0.1, affine=True, track_running_stats=True)\n",
      "    )\n",
      "    (9): ResBlock(\n",
      "      0.009 M, 12.199% Params, 1.164 GMac, 96.025% MACs, \n",
      "      (conv): Conv2d(0.009 M, 12.115% Params, 1.156 GMac, 95.363% MACs, 32, 32, kernel_size=(3, 3), stride=(1, 1), padding=(1, 1), bias=False)\n",
      "      (batch_norm): BatchNorm2d(0.0 M, 0.084% Params, 0.008 GMac, 0.662% MACs, 32, eps=1e-05, momentum=0.1, affine=True, track_running_stats=True)\n",
      "    )\n",
      "  )\n",
      "  (fc1): Linear(0.066 M, 86.190% Params, 0.003 GMac, 0.265% MACs, in_features=2048, out_features=32, bias=True)\n",
      "  (fc2): Linear(0.0 M, 0.434% Params, 0.0 GMac, 0.001% MACs, in_features=32, out_features=10, bias=True)\n",
      ")\n",
      "Computational complexity:       1.21 GMac\n",
      "Number of parameters:           76.07 k \n"
     ]
    }
   ],
   "source": [
    "#Model size/Complexity\n",
    "param_count_dict[\"Weight_Decay\"]=get_model_info(model)"
   ]
  },
  {
   "cell_type": "code",
   "execution_count": 30,
   "metadata": {},
   "outputs": [
    {
     "data": {
      "image/png": "[encoded data removed]",
      "text/plain": [
       "<Figure size 432x288 with 1 Axes>"
      ]
     },
     "metadata": {
      "needs_background": "light"
     },
     "output_type": "display_data"
    }
   ],
   "source": [
    "#Plotting training and validation accuracy vs epoch\n",
    "trn_acc = [v['train'] for k, v in Weight_Decay_Acc.items()]\n",
    "val_acc = [v['val'] for k, v in Weight_Decay_Acc.items()]\n",
    "\n",
    "plt.title(\"Weight_Decay\")\n",
    "plt.plot(np.arange(len(trn_acc)), trn_acc,  label='train')\n",
    "plt.plot(np.arange(len(val_acc))+ width, val_acc,  label='val')\n",
    "plt.ylabel('Accuracy (%)')\n",
    "plt.xlabel('Epoch')\n",
    "plt.legend(loc='lower right')\n",
    "plt.savefig('Graphs/Weight_Decay_Accuracy_30.png', bbox_inches='tight')\n",
    "plt.show()"
   ]
  },
  {
   "cell_type": "code",
   "execution_count": 32,
   "metadata": {},
   "outputs": [
    {
     "name": "stdout",
     "output_type": "stream",
     "text": [
      "Max validation value for Weight_Decay is 0.6683 on epoch 24\n"
     ]
    }
   ],
   "source": [
    "#Finding max validation accuracy and its epoch\n",
    "Weight_Decay_max_val=0\n",
    "Weight_Decay_max_val_epoch=0\n",
    "tmp=0\n",
    "for i in range(30):\n",
    "    tmp=Weight_Decay_Acc[i+1]['val']\n",
    "    if (tmp > Weight_Decay_max_val):\n",
    "        Weight_Decay_max_val=tmp\n",
    "        Weight_Decay_max_val_epoch=i+1\n",
    "max_accuracy_comparison[3]=Weight_Decay_max_val\n",
    "print('Max validation value for Weight_Decay is',Weight_Decay_max_val,'on epoch',Weight_Decay_max_val_epoch)"
   ]
  },
  {
   "cell_type": "raw",
   "metadata": {},
   "source": []
  },
  {
   "cell_type": "markdown",
   "metadata": {},
   "source": [
    "#### Part B: Dropout w/ p=0.3"
   ]
  },
  {
   "cell_type": "code",
   "execution_count": 33,
   "metadata": {},
   "outputs": [],
   "source": [
    "#Defining the model\n",
    "class NetDropout(nn.Module):\n",
    "    def __init__(self, n_chans1=32, n_blocks=10):\n",
    "        super().__init__()\n",
    "        self.n_chans1 = n_chans1\n",
    "        self.conv1 = nn.Conv2d(3, n_chans1, kernel_size=3, padding=1)\n",
    "        self.conv1_dropout = nn.Dropout2d(p=0.3)\n",
    "        self.resblocks = nn.Sequential(*(n_blocks * [ResBlock(n_chans=n_chans1)]))\n",
    "        self.fc1 = nn.Linear(8 * 8 * n_chans1, 32)\n",
    "        self.fc2 = nn.Linear(32, 10)\n",
    "        \n",
    "    def forward(self, x):\n",
    "        out = F.max_pool2d(torch.relu(self.conv1(x)), 2)\n",
    "        out = self.conv1_dropout(out)\n",
    "        out = self.resblocks(out)\n",
    "        out = F.max_pool2d(out, 2)\n",
    "        out = out.view(-1, 8 * 8 * self.n_chans1)\n",
    "        out = torch.relu(self.fc1(out))\n",
    "        out = self.fc2(out)\n",
    "        return out"
   ]
  },
  {
   "cell_type": "code",
   "execution_count": 34,
   "metadata": {},
   "outputs": [
    {
     "name": "stdout",
     "output_type": "stream",
     "text": [
      "0:00:32.739781 Epoch 1, Training loss 1.871734328994751\n",
      "0:08:45.886135 Epoch 10, Training loss 1.108644901447296\n",
      "0:17:53.568625 Epoch 20, Training loss 0.9347454721927643\n",
      "0:27:01.428297 Epoch 30, Training loss 0.829053165512085\n",
      "0:36:03.897273 Epoch 40, Training loss 0.7503068481397629\n",
      "0:45:02.198260 Epoch 50, Training loss 0.6883086155486107\n",
      "Accuracy train: 0.75\n",
      "Accuracy val: 0.65\n"
     ]
    }
   ],
   "source": [
    "#Running the model\n",
    "Dropout_Acc=collections.OrderedDict()\n",
    "model = NetDropout(n_chans1=32).to(device=device)\n",
    "optimizer = optim.SGD(model.parameters(), lr=1e-3)\n",
    "loss_fn = nn.CrossEntropyLoss()\n",
    "\n",
    "training_loop(\n",
    "    n_epochs = 50,\n",
    "    optimizer = optimizer,\n",
    "    model = model,\n",
    "    loss_fn = loss_fn,\n",
    "    train_loader = train_loader,\n",
    "        val_loader = val_loader,\n",
    "    acc_dict=Dropout_Acc\n",
    ")\n",
    "all_acc_dict[\"Dropout\"] = validate(model, train_loader, val_loader, print_output=True)"
   ]
  },
  {
   "cell_type": "code",
   "execution_count": 35,
   "metadata": {
    "scrolled": true
   },
   "outputs": [
    {
     "name": "stdout",
     "output_type": "stream",
     "text": [
      "Warning: module Dropout2d is treated as a zero-op.\n",
      "Warning: module ResBlock is treated as a zero-op.\n",
      "Warning: module NetDropout is treated as a zero-op.\n",
      "NetDropout(\n",
      "  0.076 M, 100.000% Params, 1.212 GMac, 100.000% MACs, \n",
      "  (conv1): Conv2d(0.001 M, 1.178% Params, 0.045 GMac, 3.709% MACs, 3, 32, kernel_size=(3, 3), stride=(1, 1), padding=(1, 1))\n",
      "  (conv1_dropout): Dropout2d(0.0 M, 0.000% Params, 0.0 GMac, 0.000% MACs, p=0.3, inplace=False)\n",
      "  (resblocks): Sequential(\n",
      "    0.009 M, 12.199% Params, 1.164 GMac, 96.025% MACs, \n",
      "    (0): ResBlock(\n",
      "      0.009 M, 12.199% Params, 1.164 GMac, 96.025% MACs, \n",
      "      (conv): Conv2d(0.009 M, 12.115% Params, 1.156 GMac, 95.363% MACs, 32, 32, kernel_size=(3, 3), stride=(1, 1), padding=(1, 1), bias=False)\n",
      "      (batch_norm): BatchNorm2d(0.0 M, 0.084% Params, 0.008 GMac, 0.662% MACs, 32, eps=1e-05, momentum=0.1, affine=True, track_running_stats=True)\n",
      "    )\n",
      "    (1): ResBlock(\n",
      "      0.009 M, 12.199% Params, 1.164 GMac, 96.025% MACs, \n",
      "      (conv): Conv2d(0.009 M, 12.115% Params, 1.156 GMac, 95.363% MACs, 32, 32, kernel_size=(3, 3), stride=(1, 1), padding=(1, 1), bias=False)\n",
      "      (batch_norm): BatchNorm2d(0.0 M, 0.084% Params, 0.008 GMac, 0.662% MACs, 32, eps=1e-05, momentum=0.1, affine=True, track_running_stats=True)\n",
      "    )\n",
      "    (2): ResBlock(\n",
      "      0.009 M, 12.199% Params, 1.164 GMac, 96.025% MACs, \n",
      "      (conv): Conv2d(0.009 M, 12.115% Params, 1.156 GMac, 95.363% MACs, 32, 32, kernel_size=(3, 3), stride=(1, 1), padding=(1, 1), bias=False)\n",
      "      (batch_norm): BatchNorm2d(0.0 M, 0.084% Params, 0.008 GMac, 0.662% MACs, 32, eps=1e-05, momentum=0.1, affine=True, track_running_stats=True)\n",
      "    )\n",
      "    (3): ResBlock(\n",
      "      0.009 M, 12.199% Params, 1.164 GMac, 96.025% MACs, \n",
      "      (conv): Conv2d(0.009 M, 12.115% Params, 1.156 GMac, 95.363% MACs, 32, 32, kernel_size=(3, 3), stride=(1, 1), padding=(1, 1), bias=False)\n",
      "      (batch_norm): BatchNorm2d(0.0 M, 0.084% Params, 0.008 GMac, 0.662% MACs, 32, eps=1e-05, momentum=0.1, affine=True, track_running_stats=True)\n",
      "    )\n",
      "    (4): ResBlock(\n",
      "      0.009 M, 12.199% Params, 1.164 GMac, 96.025% MACs, \n",
      "      (conv): Conv2d(0.009 M, 12.115% Params, 1.156 GMac, 95.363% MACs, 32, 32, kernel_size=(3, 3), stride=(1, 1), padding=(1, 1), bias=False)\n",
      "      (batch_norm): BatchNorm2d(0.0 M, 0.084% Params, 0.008 GMac, 0.662% MACs, 32, eps=1e-05, momentum=0.1, affine=True, track_running_stats=True)\n",
      "    )\n",
      "    (5): ResBlock(\n",
      "      0.009 M, 12.199% Params, 1.164 GMac, 96.025% MACs, \n",
      "      (conv): Conv2d(0.009 M, 12.115% Params, 1.156 GMac, 95.363% MACs, 32, 32, kernel_size=(3, 3), stride=(1, 1), padding=(1, 1), bias=False)\n",
      "      (batch_norm): BatchNorm2d(0.0 M, 0.084% Params, 0.008 GMac, 0.662% MACs, 32, eps=1e-05, momentum=0.1, affine=True, track_running_stats=True)\n",
      "    )\n",
      "    (6): ResBlock(\n",
      "      0.009 M, 12.199% Params, 1.164 GMac, 96.025% MACs, \n",
      "      (conv): Conv2d(0.009 M, 12.115% Params, 1.156 GMac, 95.363% MACs, 32, 32, kernel_size=(3, 3), stride=(1, 1), padding=(1, 1), bias=False)\n",
      "      (batch_norm): BatchNorm2d(0.0 M, 0.084% Params, 0.008 GMac, 0.662% MACs, 32, eps=1e-05, momentum=0.1, affine=True, track_running_stats=True)\n",
      "    )\n",
      "    (7): ResBlock(\n",
      "      0.009 M, 12.199% Params, 1.164 GMac, 96.025% MACs, \n",
      "      (conv): Conv2d(0.009 M, 12.115% Params, 1.156 GMac, 95.363% MACs, 32, 32, kernel_size=(3, 3), stride=(1, 1), padding=(1, 1), bias=False)\n",
      "      (batch_norm): BatchNorm2d(0.0 M, 0.084% Params, 0.008 GMac, 0.662% MACs, 32, eps=1e-05, momentum=0.1, affine=True, track_running_stats=True)\n",
      "    )\n",
      "    (8): ResBlock(\n",
      "      0.009 M, 12.199% Params, 1.164 GMac, 96.025% MACs, \n",
      "      (conv): Conv2d(0.009 M, 12.115% Params, 1.156 GMac, 95.363% MACs, 32, 32, kernel_size=(3, 3), stride=(1, 1), padding=(1, 1), bias=False)\n",
      "      (batch_norm): BatchNorm2d(0.0 M, 0.084% Params, 0.008 GMac, 0.662% MACs, 32, eps=1e-05, momentum=0.1, affine=True, track_running_stats=True)\n",
      "    )\n",
      "    (9): ResBlock(\n",
      "      0.009 M, 12.199% Params, 1.164 GMac, 96.025% MACs, \n",
      "      (conv): Conv2d(0.009 M, 12.115% Params, 1.156 GMac, 95.363% MACs, 32, 32, kernel_size=(3, 3), stride=(1, 1), padding=(1, 1), bias=False)\n",
      "      (batch_norm): BatchNorm2d(0.0 M, 0.084% Params, 0.008 GMac, 0.662% MACs, 32, eps=1e-05, momentum=0.1, affine=True, track_running_stats=True)\n",
      "    )\n",
      "  )\n",
      "  (fc1): Linear(0.066 M, 86.190% Params, 0.003 GMac, 0.265% MACs, in_features=2048, out_features=32, bias=True)\n",
      "  (fc2): Linear(0.0 M, 0.434% Params, 0.0 GMac, 0.001% MACs, in_features=32, out_features=10, bias=True)\n",
      ")\n",
      "Computational complexity:       1.21 GMac\n",
      "Number of parameters:           76.07 k \n"
     ]
    }
   ],
   "source": [
    "#Model size/Complexity\n",
    "param_count_dict[\"Dropout\"]=get_model_info(model)"
   ]
  },
  {
   "cell_type": "code",
   "execution_count": 36,
   "metadata": {
    "scrolled": true
   },
   "outputs": [
    {
     "data": {
      "image/png": "[encoded data removed]",
      "text/plain": [
       "<Figure size 432x288 with 1 Axes>"
      ]
     },
     "metadata": {
      "needs_background": "light"
     },
     "output_type": "display_data"
    }
   ],
   "source": [
    "#Plotting training and validation accuracy vs epoch\n",
    "trn_acc = [v['train'] for k, v in Dropout_Acc.items()]\n",
    "val_acc = [v['val'] for k, v in Dropout_Acc.items()]\n",
    "\n",
    "plt.title(\"Dropout\")\n",
    "plt.plot(np.arange(len(trn_acc)), trn_acc,  label='train')\n",
    "plt.plot(np.arange(len(val_acc))+ width, val_acc,  label='val')\n",
    "plt.ylabel('Accuracy (%)')\n",
    "plt.xlabel('Epoch')\n",
    "plt.legend(loc='lower right')\n",
    "plt.savefig('Graphs/Dropout_Accuracy_50.png', bbox_inches='tight')\n",
    "plt.show()"
   ]
  },
  {
   "cell_type": "code",
   "execution_count": 37,
   "metadata": {},
   "outputs": [
    {
     "name": "stdout",
     "output_type": "stream",
     "text": [
      "Max validation value for Dropout is 0.6498 on epoch 48\n"
     ]
    }
   ],
   "source": [
    "#Finding max validation accuracy and its epoch\n",
    "Dropout_max_val=0\n",
    "Dropout_max_val_epoch=0\n",
    "tmp=0\n",
    "for i in range(50):\n",
    "    tmp=Dropout_Acc[i+1]['val']\n",
    "    if (tmp > Dropout_max_val):\n",
    "        Dropout_max_val=tmp\n",
    "        Dropout_max_val_epoch=i+1\n",
    "max_accuracy_comparison[4]=Dropout_max_val\n",
    "print('Max validation value for Dropout is',Dropout_max_val,'on epoch',Dropout_max_val_epoch)"
   ]
  },
  {
   "cell_type": "raw",
   "metadata": {},
   "source": []
  },
  {
   "cell_type": "markdown",
   "metadata": {},
   "source": [
    "#### Part B: Batch Normalization"
   ]
  },
  {
   "cell_type": "code",
   "execution_count": 38,
   "metadata": {},
   "outputs": [],
   "source": [
    "#Defining the model\n",
    "class NetBatchNorm(nn.Module):\n",
    "    def __init__(self, n_chans1=32, n_blocks=10):\n",
    "        super().__init__()\n",
    "        self.n_chans1 = n_chans1\n",
    "        self.conv1 = nn.Conv2d(3, n_chans1, kernel_size=3, padding=1)\n",
    "        self.conv1_batchnorm = nn.BatchNorm2d(num_features=n_chans1)\n",
    "        self.resblocks = nn.Sequential(*(n_blocks * [ResBlock(n_chans=n_chans1)]))\n",
    "        self.fc1 = nn.Linear(8 * 8 * n_chans1, 32)\n",
    "        self.fc2 = nn.Linear(32, 10)\n",
    "        \n",
    "    def forward(self, x):\n",
    "        out = F.max_pool2d(x, 2)\n",
    "        #out = F.max_pool2d(torch.relu(self.conv1(x)), 2)\n",
    "        #out = self.conv1_batchnorm(self.conv1(x))\n",
    "        out = self.conv1_batchnorm(self.conv1(out))\n",
    "        out = self.resblocks(out)\n",
    "        out = F.max_pool2d(out, 2)\n",
    "        out = out.view(-1, 8 * 8 * self.n_chans1)\n",
    "        out = torch.relu(self.fc1(out))\n",
    "        out = self.fc2(out)\n",
    "        return out"
   ]
  },
  {
   "cell_type": "code",
   "execution_count": 39,
   "metadata": {},
   "outputs": [
    {
     "name": "stdout",
     "output_type": "stream",
     "text": [
      "0:00:32.587660 Epoch 1, Training loss 1.6605897638511657\n",
      "0:08:49.617029 Epoch 10, Training loss 0.9486640095233917\n",
      "0:17:59.217177 Epoch 20, Training loss 0.7515977625226975\n",
      "Accuracy train: 0.73\n",
      "Accuracy val: 0.60\n"
     ]
    }
   ],
   "source": [
    "#Running the model\n",
    "Batch_norm_Acc=collections.OrderedDict()\n",
    "model = NetBatchNorm(n_chans1=32).to(device=device)\n",
    "optimizer = optim.SGD(model.parameters(), lr=1e-3)\n",
    "loss_fn = nn.CrossEntropyLoss()\n",
    "\n",
    "training_loop(\n",
    "    n_epochs = 20,\n",
    "    optimizer = optimizer,\n",
    "    model = model,\n",
    "    loss_fn = loss_fn,\n",
    "    train_loader = train_loader,\n",
    "    val_loader = val_loader,\n",
    "    acc_dict=Batch_norm_Acc\n",
    ")\n",
    "all_acc_dict[\"Batch_norm\"] = validate(model, train_loader, val_loader, print_output=True)"
   ]
  },
  {
   "cell_type": "code",
   "execution_count": 40,
   "metadata": {},
   "outputs": [
    {
     "name": "stdout",
     "output_type": "stream",
     "text": [
      "Warning: module ResBlock is treated as a zero-op.\n",
      "Warning: module NetBatchNorm is treated as a zero-op.\n",
      "NetBatchNorm(\n",
      "  0.076 M, 100.000% Params, 1.179 GMac, 100.000% MACs, \n",
      "  (conv1): Conv2d(0.001 M, 1.177% Params, 0.011 GMac, 0.953% MACs, 3, 32, kernel_size=(3, 3), stride=(1, 1), padding=(1, 1))\n",
      "  (conv1_batchnorm): BatchNorm2d(0.0 M, 0.084% Params, 0.001 GMac, 0.068% MACs, 32, eps=1e-05, momentum=0.1, affine=True, track_running_stats=True)\n",
      "  (resblocks): Sequential(\n",
      "    0.009 M, 12.188% Params, 1.164 GMac, 98.705% MACs, \n",
      "    (0): ResBlock(\n",
      "      0.009 M, 12.188% Params, 1.164 GMac, 98.705% MACs, \n",
      "      (conv): Conv2d(0.009 M, 12.104% Params, 1.156 GMac, 98.025% MACs, 32, 32, kernel_size=(3, 3), stride=(1, 1), padding=(1, 1), bias=False)\n",
      "      (batch_norm): BatchNorm2d(0.0 M, 0.084% Params, 0.008 GMac, 0.681% MACs, 32, eps=1e-05, momentum=0.1, affine=True, track_running_stats=True)\n",
      "    )\n",
      "    (1): ResBlock(\n",
      "      0.009 M, 12.188% Params, 1.164 GMac, 98.705% MACs, \n",
      "      (conv): Conv2d(0.009 M, 12.104% Params, 1.156 GMac, 98.025% MACs, 32, 32, kernel_size=(3, 3), stride=(1, 1), padding=(1, 1), bias=False)\n",
      "      (batch_norm): BatchNorm2d(0.0 M, 0.084% Params, 0.008 GMac, 0.681% MACs, 32, eps=1e-05, momentum=0.1, affine=True, track_running_stats=True)\n",
      "    )\n",
      "    (2): ResBlock(\n",
      "      0.009 M, 12.188% Params, 1.164 GMac, 98.705% MACs, \n",
      "      (conv): Conv2d(0.009 M, 12.104% Params, 1.156 GMac, 98.025% MACs, 32, 32, kernel_size=(3, 3), stride=(1, 1), padding=(1, 1), bias=False)\n",
      "      (batch_norm): BatchNorm2d(0.0 M, 0.084% Params, 0.008 GMac, 0.681% MACs, 32, eps=1e-05, momentum=0.1, affine=True, track_running_stats=True)\n",
      "    )\n",
      "    (3): ResBlock(\n",
      "      0.009 M, 12.188% Params, 1.164 GMac, 98.705% MACs, \n",
      "      (conv): Conv2d(0.009 M, 12.104% Params, 1.156 GMac, 98.025% MACs, 32, 32, kernel_size=(3, 3), stride=(1, 1), padding=(1, 1), bias=False)\n",
      "      (batch_norm): BatchNorm2d(0.0 M, 0.084% Params, 0.008 GMac, 0.681% MACs, 32, eps=1e-05, momentum=0.1, affine=True, track_running_stats=True)\n",
      "    )\n",
      "    (4): ResBlock(\n",
      "      0.009 M, 12.188% Params, 1.164 GMac, 98.705% MACs, \n",
      "      (conv): Conv2d(0.009 M, 12.104% Params, 1.156 GMac, 98.025% MACs, 32, 32, kernel_size=(3, 3), stride=(1, 1), padding=(1, 1), bias=False)\n",
      "      (batch_norm): BatchNorm2d(0.0 M, 0.084% Params, 0.008 GMac, 0.681% MACs, 32, eps=1e-05, momentum=0.1, affine=True, track_running_stats=True)\n",
      "    )\n",
      "    (5): ResBlock(\n",
      "      0.009 M, 12.188% Params, 1.164 GMac, 98.705% MACs, \n",
      "      (conv): Conv2d(0.009 M, 12.104% Params, 1.156 GMac, 98.025% MACs, 32, 32, kernel_size=(3, 3), stride=(1, 1), padding=(1, 1), bias=False)\n",
      "      (batch_norm): BatchNorm2d(0.0 M, 0.084% Params, 0.008 GMac, 0.681% MACs, 32, eps=1e-05, momentum=0.1, affine=True, track_running_stats=True)\n",
      "    )\n",
      "    (6): ResBlock(\n",
      "      0.009 M, 12.188% Params, 1.164 GMac, 98.705% MACs, \n",
      "      (conv): Conv2d(0.009 M, 12.104% Params, 1.156 GMac, 98.025% MACs, 32, 32, kernel_size=(3, 3), stride=(1, 1), padding=(1, 1), bias=False)\n",
      "      (batch_norm): BatchNorm2d(0.0 M, 0.084% Params, 0.008 GMac, 0.681% MACs, 32, eps=1e-05, momentum=0.1, affine=True, track_running_stats=True)\n",
      "    )\n",
      "    (7): ResBlock(\n",
      "      0.009 M, 12.188% Params, 1.164 GMac, 98.705% MACs, \n",
      "      (conv): Conv2d(0.009 M, 12.104% Params, 1.156 GMac, 98.025% MACs, 32, 32, kernel_size=(3, 3), stride=(1, 1), padding=(1, 1), bias=False)\n",
      "      (batch_norm): BatchNorm2d(0.0 M, 0.084% Params, 0.008 GMac, 0.681% MACs, 32, eps=1e-05, momentum=0.1, affine=True, track_running_stats=True)\n",
      "    )\n",
      "    (8): ResBlock(\n",
      "      0.009 M, 12.188% Params, 1.164 GMac, 98.705% MACs, \n",
      "      (conv): Conv2d(0.009 M, 12.104% Params, 1.156 GMac, 98.025% MACs, 32, 32, kernel_size=(3, 3), stride=(1, 1), padding=(1, 1), bias=False)\n",
      "      (batch_norm): BatchNorm2d(0.0 M, 0.084% Params, 0.008 GMac, 0.681% MACs, 32, eps=1e-05, momentum=0.1, affine=True, track_running_stats=True)\n",
      "    )\n",
      "    (9): ResBlock(\n",
      "      0.009 M, 12.188% Params, 1.164 GMac, 98.705% MACs, \n",
      "      (conv): Conv2d(0.009 M, 12.104% Params, 1.156 GMac, 98.025% MACs, 32, 32, kernel_size=(3, 3), stride=(1, 1), padding=(1, 1), bias=False)\n",
      "      (batch_norm): BatchNorm2d(0.0 M, 0.084% Params, 0.008 GMac, 0.681% MACs, 32, eps=1e-05, momentum=0.1, affine=True, track_running_stats=True)\n",
      "    )\n",
      "  )\n",
      "  (fc1): Linear(0.066 M, 86.117% Params, 0.003 GMac, 0.272% MACs, in_features=2048, out_features=32, bias=True)\n",
      "  (fc2): Linear(0.0 M, 0.433% Params, 0.0 GMac, 0.001% MACs, in_features=32, out_features=10, bias=True)\n",
      ")\n",
      "Computational complexity:       1.18 GMac\n",
      "Number of parameters:           76.14 k \n"
     ]
    }
   ],
   "source": [
    "#Model size/Complexity\n",
    "param_count_dict[\"Batch_norm\"]=get_model_info(model)"
   ]
  },
  {
   "cell_type": "code",
   "execution_count": 50,
   "metadata": {},
   "outputs": [
    {
     "data": {
      "image/png": "[encoded data removed]",
      "text/plain": [
       "<Figure size 432x288 with 1 Axes>"
      ]
     },
     "metadata": {
      "needs_background": "light"
     },
     "output_type": "display_data"
    }
   ],
   "source": [
    "#Plotting training and validation accuracy vs epoch\n",
    "trn_acc = [v['train'] for k, v in Batch_norm_Acc.items()]\n",
    "val_acc = [v['val'] for k, v in Batch_norm_Acc.items()]\n",
    "\n",
    "plt.title(\"Batch_norm\")\n",
    "plt.plot(np.arange(len(trn_acc)), trn_acc,  label='train')\n",
    "plt.plot(np.arange(len(val_acc))+ width, val_acc,  label='val')\n",
    "plt.ylabel('Accuracy (%)')\n",
    "plt.xlabel('Epoch')\n",
    "plt.legend(loc='lower right')\n",
    "plt.savefig('Graphs/Batch_Norm_Accuracy_20.png', bbox_inches='tight')\n",
    "plt.show()"
   ]
  },
  {
   "cell_type": "code",
   "execution_count": 42,
   "metadata": {},
   "outputs": [
    {
     "name": "stdout",
     "output_type": "stream",
     "text": [
      "Max validation value for Batch_norm is 0.6079 on epoch 11\n"
     ]
    }
   ],
   "source": [
    "#Finding max validation accuracy and its epoch\n",
    "Batch_norm_max_val=0\n",
    "Batch_norm_max_val_epoch=0\n",
    "tmp=0\n",
    "for i in range(20):\n",
    "    tmp=Batch_norm_Acc[i+1]['val']\n",
    "    if (tmp > Batch_norm_max_val):\n",
    "        Batch_norm_max_val=tmp\n",
    "        Batch_norm_max_val_epoch=i+1\n",
    "max_accuracy_comparison[5]=Batch_norm_max_val\n",
    "print('Max validation value for Batch_norm is',Batch_norm_max_val,'on epoch',Batch_norm_max_val_epoch)"
   ]
  },
  {
   "cell_type": "raw",
   "metadata": {},
   "source": []
  },
  {
   "cell_type": "markdown",
   "metadata": {},
   "source": [
    "# Model Accuracy Comparisons"
   ]
  },
  {
   "cell_type": "markdown",
   "metadata": {},
   "source": [
    "#### Max Validation and Training Accuracy"
   ]
  },
  {
   "cell_type": "code",
   "execution_count": 43,
   "metadata": {},
   "outputs": [
    {
     "data": {
      "text/plain": [
       "array([0.6418, 0.6739, 0.6711, 0.6683, 0.6498, 0.6079])"
      ]
     },
     "execution_count": 43,
     "metadata": {},
     "output_type": "execute_result"
    }
   ],
   "source": [
    "#Array of all max validation accuracy for each model\n",
    "max_accuracy_comparison"
   ]
  },
  {
   "cell_type": "code",
   "execution_count": 44,
   "metadata": {
    "scrolled": true
   },
   "outputs": [
    {
     "data": {
      "text/plain": [
       "OrderedDict([('CNN_A', {'train': 0.69544, 'val': 0.6402}),\n",
       "             ('CNN_B', {'train': 0.74396, 'val': 0.6722}),\n",
       "             ('ResNet10', {'train': 0.9097, 'val': 0.6236}),\n",
       "             ('Weight_Decay', {'train': 0.80084, 'val': 0.6655}),\n",
       "             ('Dropout', {'train': 0.75436, 'val': 0.6451}),\n",
       "             ('Batch_norm', {'train': 0.729, 'val': 0.6023})])"
      ]
     },
     "execution_count": 44,
     "metadata": {},
     "output_type": "execute_result"
    }
   ],
   "source": [
    "#Final epoch values (for train values these are their max)\n",
    "all_acc_dict"
   ]
  },
  {
   "cell_type": "code",
   "execution_count": 45,
   "metadata": {
    "scrolled": true
   },
   "outputs": [
    {
     "data": {
      "image/png": "[encoded data removed]",
      "text/plain": [
       "<Figure size 432x288 with 1 Axes>"
      ]
     },
     "metadata": {
      "needs_background": "light"
     },
     "output_type": "display_data"
    }
   ],
   "source": [
    "#Plotting max train & val accuracies\n",
    "trn_acc = [v['train'] for k, v in all_acc_dict.items()] #from dict\n",
    "val_acc=max_accuracy_comparison #from array\n",
    "\n",
    "width =0.3\n",
    "plt.bar(np.arange(len(trn_acc)), trn_acc, width=width, label='train')\n",
    "plt.bar(np.arange(len(val_acc))+ width, val_acc, width=width, label='val')\n",
    "plt.xticks(np.arange(len(trn_acc))+ width/2, list(all_acc_dict.keys()), rotation=60)\n",
    "plt.ylabel('Accuracy')\n",
    "plt.legend(loc='upper right')\n",
    "#plt.ylim(0.6, 0.75)\n",
    "plt.title(\"Model Accuracy Comparison\")\n",
    "plt.savefig('Graphs/accuracy_comparison.png', bbox_inches='tight')\n",
    "plt.show()\n"
   ]
  },
  {
   "cell_type": "raw",
   "metadata": {},
   "source": []
  },
  {
   "cell_type": "markdown",
   "metadata": {},
   "source": [
    "#### Model Parameter Comparision"
   ]
  },
  {
   "cell_type": "code",
   "execution_count": 46,
   "metadata": {
    "scrolled": true
   },
   "outputs": [
    {
     "data": {
      "text/plain": [
       "OrderedDict([('CNN_A', {'Params': '16.97 k', 'macs': '0.01 GMac'}),\n",
       "             ('CNN_B', {'Params': '18.35 k', 'macs': '0.04 GMac'}),\n",
       "             ('ResNet10', {'Params': '76.07 k', 'macs': '1.21 GMac'}),\n",
       "             ('Weight_Decay', {'Params': '76.07 k', 'macs': '1.21 GMac'}),\n",
       "             ('Dropout', {'Params': '76.07 k', 'macs': '1.21 GMac'}),\n",
       "             ('Batch_norm', {'Params': '76.14 k', 'macs': '1.18 GMac'})])"
      ]
     },
     "execution_count": 46,
     "metadata": {},
     "output_type": "execute_result"
    }
   ],
   "source": [
    "#Dictionary holds all models complexity and size\n",
    "param_count_dict"
   ]
  },
  {
   "cell_type": "code",
   "execution_count": 47,
   "metadata": {},
   "outputs": [],
   "source": [
    "#Dict holds strings for Macs and params, manually transfer to arrays for plotting\n",
    "mac_count=np.array([0.01,0.04,1.21,1.21,1.21,1.18])\n",
    "param_count=np.array([16.97,18.35,76.07,76.07,76.07,76.14])"
   ]
  },
  {
   "cell_type": "code",
   "execution_count": 48,
   "metadata": {
    "scrolled": true
   },
   "outputs": [
    {
     "data": {
      "image/png": "[encoded data removed]",
      "text/plain": [
       "<Figure size 432x288 with 1 Axes>"
      ]
     },
     "metadata": {
      "needs_background": "light"
     },
     "output_type": "display_data"
    }
   ],
   "source": [
    "#Plot all model parameter counts\n",
    "width =0.3\n",
    "plt.bar(np.arange(len(param_count)), param_count, width=width, label='Parameters')\n",
    "plt.xticks(np.arange(len(param_count))+ width/2, list(all_acc_dict.keys()), rotation=60)\n",
    "plt.ylabel('Parameters (k)')\n",
    "plt.legend(loc='upper left')\n",
    "plt.title(\"Model Parameter Comparison\")\n",
    "plt.savefig('Graphs/Parameter_comparison.png', bbox_inches='tight')\n",
    "plt.show()"
   ]
  },
  {
   "cell_type": "raw",
   "metadata": {},
   "source": []
  },
  {
   "cell_type": "markdown",
   "metadata": {},
   "source": [
    "#### Model GMac Comparison"
   ]
  },
  {
   "cell_type": "code",
   "execution_count": 49,
   "metadata": {},
   "outputs": [
    {
     "data": {
      "image/png": "[encoded data removed]",
      "text/plain": [
       "<Figure size 432x288 with 1 Axes>"
      ]
     },
     "metadata": {
      "needs_background": "light"
     },
     "output_type": "display_data"
    }
   ],
   "source": [
    "#Plot all model GMac counts\n",
    "width =0.3\n",
    "plt.bar(np.arange(len(mac_count))+ width, mac_count, width=width, label='GMac')\n",
    "plt.xticks(np.arange(len(mac_count))+ width/2, list(all_acc_dict.keys()), rotation=60)\n",
    "plt.ylabel('GMac')\n",
    "plt.legend(loc='upper left')\n",
    "plt.title(\"Model GMac Comparison\")\n",
    "plt.savefig('Graphs/GMac_comparison.png', bbox_inches='tight')\n",
    "plt.show()"
   ]
  },
  {
   "cell_type": "code",
   "execution_count": null,
   "metadata": {},
   "outputs": [],
   "source": []
  }
 ],
 "metadata": {
  "kernelspec": {
   "display_name": "Python 3 (ipykernel)",
   "language": "python",
   "name": "python3"
  },
  "language_info": {
   "codemirror_mode": {
    "name": "ipython",
    "version": 3
   },
   "file_extension": ".py",
   "mimetype": "text/x-python",
   "name": "python",
   "nbconvert_exporter": "python",
   "pygments_lexer": "ipython3",
   "version": "3.8.12"
  }
 },
 "nbformat": 4,
 "nbformat_minor": 2
}
